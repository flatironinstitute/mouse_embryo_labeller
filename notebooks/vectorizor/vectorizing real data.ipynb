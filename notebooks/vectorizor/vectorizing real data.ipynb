{
 "cells": [
  {
   "cell_type": "markdown",
   "id": "fc0ec913",
   "metadata": {},
   "source": [
    "# This notebook demonstrates how to generate vectorizations from source TIFF files"
   ]
  },
  {
   "cell_type": "code",
   "execution_count": 1,
   "id": "dd99340f",
   "metadata": {},
   "outputs": [
    {
     "name": "stdout",
     "output_type": "stream",
     "text": [
      "210501_NANOG_Gata6_with_protein_levels.mat\r\n",
      "Gata6Nanog1.json\r\n",
      "MakeTracksForAaronFromHaydensGraph.py\r\n",
      "OutputGraphForPython.m\r\n",
      "Stardist3D_klbOut_Cam_Long_00006.tif\r\n",
      "Stardist3D_klbOut_Cam_Long_00007.tif\r\n",
      "exploring.ipynb\r\n",
      "fwdcontiguousmoviessomegapsstill.zip\r\n",
      "test.json\r\n"
     ]
    }
   ],
   "source": [
    "%ls /Users/awatters/misc/LisaBrown/movies"
   ]
  },
  {
   "cell_type": "code",
   "execution_count": 2,
   "id": "42a2ae19",
   "metadata": {},
   "outputs": [],
   "source": [
    "# Load the arrays from the TIFF files...\n",
    "\n",
    "file6 = \"/Users/awatters/misc/LisaBrown/movies/Stardist3D_klbOut_Cam_Long_00006.tif\"\n",
    "file7 = \"/Users/awatters/misc/LisaBrown/movies/Stardist3D_klbOut_Cam_Long_00007.tif\""
   ]
  },
  {
   "cell_type": "code",
   "execution_count": 3,
   "id": "a09ea518",
   "metadata": {},
   "outputs": [],
   "source": [
    "from mouse_embryo_labeller.tools import load_tiff_array"
   ]
  },
  {
   "cell_type": "code",
   "execution_count": 4,
   "id": "375a219b",
   "metadata": {},
   "outputs": [],
   "source": [
    "labels6 = load_tiff_array(file6)"
   ]
  },
  {
   "cell_type": "code",
   "execution_count": 5,
   "id": "e3beb2a5",
   "metadata": {},
   "outputs": [
    {
     "data": {
      "text/plain": [
       "(64, 800, 800)"
      ]
     },
     "execution_count": 5,
     "metadata": {},
     "output_type": "execute_result"
    }
   ],
   "source": [
    "labels6.shape"
   ]
  },
  {
   "cell_type": "code",
   "execution_count": 6,
   "id": "c20e18fc",
   "metadata": {},
   "outputs": [
    {
     "data": {
      "text/plain": [
       "(64, 800, 800)"
      ]
     },
     "execution_count": 6,
     "metadata": {},
     "output_type": "execute_result"
    }
   ],
   "source": [
    "labels7 = load_tiff_array(file7)\n",
    "labels7.shape"
   ]
  },
  {
   "cell_type": "code",
   "execution_count": 7,
   "id": "9a5de62f",
   "metadata": {},
   "outputs": [],
   "source": [
    "# Load the JSON dump of the label correspondence\n",
    "\n",
    "file_name = \"Gata6Nanog1.json\"\n",
    "import json\n",
    "json_graph = json.load(open(file_name))"
   ]
  },
  {
   "cell_type": "code",
   "execution_count": 8,
   "id": "678ae793",
   "metadata": {},
   "outputs": [],
   "source": [
    "from mouse_embryo_labeller.vectorizor import make_tracks_from_haydens_json_graph\n",
    "\n",
    "timestamp_mapping = make_tracks_from_haydens_json_graph(json_graph)"
   ]
  },
  {
   "cell_type": "code",
   "execution_count": 9,
   "id": "51cf80bb",
   "metadata": {},
   "outputs": [
    {
     "data": {
      "text/plain": [
       "{5: 1, 3: 2, 2: 3, 6: 4, 4: 5, 7: 6, 8: 7, 9: 8, 1: 9}"
      ]
     },
     "execution_count": 9,
     "metadata": {},
     "output_type": "execute_result"
    }
   ],
   "source": [
    "# Get the mappings of labels to tracks for the label arrays\n",
    "\n",
    "ts6m = timestamp_mapping[6]\n",
    "ts6m\n"
   ]
  },
  {
   "cell_type": "code",
   "execution_count": 10,
   "id": "b78c93f1",
   "metadata": {},
   "outputs": [
    {
     "data": {
      "text/plain": [
       "{5: 1, 1: 2, 3: 3, 6: 4, 9: 5, 7: 6, 2: 7, 8: 8, 4: 9}"
      ]
     },
     "execution_count": 10,
     "metadata": {},
     "output_type": "execute_result"
    }
   ],
   "source": [
    "ts7m = timestamp_mapping[7]\n",
    "ts7m"
   ]
  },
  {
   "cell_type": "code",
   "execution_count": 11,
   "id": "075a53fd",
   "metadata": {},
   "outputs": [
    {
     "data": {
      "text/plain": [
       "(64, 800, 800, 3)"
      ]
     },
     "execution_count": 11,
     "metadata": {},
     "output_type": "execute_result"
    }
   ],
   "source": [
    "# generate the vectors for the full size arrays, this may take a few seconds...\n",
    "\n",
    "from mouse_embryo_labeller.vectorizor import get_track_vector_field\n",
    "\n",
    "vector_field = get_track_vector_field(\n",
    "    old_label_array=labels6, \n",
    "    old_labels_to_tracks=ts6m,\n",
    "    new_label_array=labels7,\n",
    "    new_labels_to_tracks=ts7m,\n",
    "    di = (10, 0, 0),  #  xyz offset between A[i,j,k] and A[i+1,j,k]\n",
    "    dj = (0, 1, 0),  #  xyz offset between A[i,j,k] and A[i,j+1,k]\n",
    "    dk = (0, 0, 1),  #  xyz offset between A[i,j,k] and A[i,j,k+1]\n",
    "    )\n",
    "vector_field.shape"
   ]
  },
  {
   "cell_type": "markdown",
   "id": "46c8bd89",
   "metadata": {},
   "source": [
    "# Viewing a subsampled version of the arrays for testing"
   ]
  },
  {
   "cell_type": "code",
   "execution_count": 12,
   "id": "440a8d72",
   "metadata": {},
   "outputs": [
    {
     "data": {
      "text/plain": [
       "((32, 40, 40), 213)"
      ]
     },
     "execution_count": 12,
     "metadata": {},
     "output_type": "execute_result"
    }
   ],
   "source": [
    "# looking at subsampled data\n",
    "import numpy as np\n",
    "\n",
    "jkstride = 20\n",
    "istride = 2\n",
    "ss6 = labels6[::istride, ::jkstride, ::jkstride]\n",
    "ss6.shape, len(np.nonzero(ss6)[0])"
   ]
  },
  {
   "cell_type": "code",
   "execution_count": 13,
   "id": "a489b049",
   "metadata": {},
   "outputs": [
    {
     "data": {
      "text/plain": [
       "((32, 40, 40), 229)"
      ]
     },
     "execution_count": 13,
     "metadata": {},
     "output_type": "execute_result"
    }
   ],
   "source": [
    "ss7 = labels7[::istride, ::jkstride, ::jkstride]\n",
    "ss7.shape, len(np.nonzero(ss7)[0])"
   ]
  },
  {
   "cell_type": "code",
   "execution_count": 14,
   "id": "50113e52",
   "metadata": {},
   "outputs": [],
   "source": [
    "from mouse_embryo_labeller.vectorizor import unify_tracks\n",
    "\n",
    "# Generate the arrays of treck numbers from the arrays of label numbers\n",
    "\n",
    "(tracks6, tracks7) = unify_tracks(\n",
    "    A=ss6,  # label array\n",
    "    A_label_2_track=ts6m,   # mapping of labels in A to track numbers\n",
    "    B=ss7,  # label array\n",
    "    B_label_2_track=ts7m,   # mapping of labels in B to track numbers\n",
    ")\n"
   ]
  },
  {
   "cell_type": "code",
   "execution_count": 15,
   "id": "03e521c7",
   "metadata": {},
   "outputs": [
    {
     "data": {
      "text/plain": [
       "(32, 40, 40, 3)"
      ]
     },
     "execution_count": 15,
     "metadata": {},
     "output_type": "execute_result"
    }
   ],
   "source": [
    "# generate vectors for the subsampled arrays\n",
    "\n",
    "from mouse_embryo_labeller.vectorizor import VectorMaker\n",
    "\n",
    "V = VectorMaker(tracks6, tracks7)\n",
    "V.scaled_vectors.shape"
   ]
  },
  {
   "cell_type": "code",
   "execution_count": null,
   "id": "7a67800f",
   "metadata": {},
   "outputs": [],
   "source": [
    "# view the vectorizor widget\n",
    "\n",
    "W = V.widget()"
   ]
  },
  {
   "cell_type": "code",
   "execution_count": null,
   "id": "b8c01497",
   "metadata": {},
   "outputs": [],
   "source": []
  }
 ],
 "metadata": {
  "kernelspec": {
   "display_name": "Python 3",
   "language": "python",
   "name": "python3"
  },
  "language_info": {
   "codemirror_mode": {
    "name": "ipython",
    "version": 3
   },
   "file_extension": ".py",
   "mimetype": "text/x-python",
   "name": "python",
   "nbconvert_exporter": "python",
   "pygments_lexer": "ipython3",
   "version": "3.6.8"
  }
 },
 "nbformat": 4,
 "nbformat_minor": 5
}
