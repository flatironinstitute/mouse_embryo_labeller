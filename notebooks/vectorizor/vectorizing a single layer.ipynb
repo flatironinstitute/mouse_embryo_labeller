{
 "cells": [
  {
   "cell_type": "markdown",
   "id": "63510e91",
   "metadata": {},
   "source": [
    "# This notebook demonstrates how to vectorize a single layer to get 2d vectors"
   ]
  },
  {
   "cell_type": "code",
   "execution_count": null,
   "id": "9a047757",
   "metadata": {},
   "outputs": [],
   "source": [
    "# Load the graph structure JSON\n",
    "\n",
    "file_name = \"Gata6Nanog1.json\"\n",
    "import json\n",
    "json_graph = json.load(open(file_name))"
   ]
  },
  {
   "cell_type": "code",
   "execution_count": null,
   "id": "2dd37003",
   "metadata": {},
   "outputs": [],
   "source": [
    "# Load the label arrays\n",
    "\n",
    "from mouse_embryo_labeller.tools import load_tiff_array\n",
    "import numpy as np\n",
    "\n",
    "file39 = \"/Users/awatters/misc/LisaBrown/movies/Stardist3D_klbOut_Cam_Long_00039.tif\"\n",
    "file40 = \"/Users/awatters/misc/LisaBrown/movies/Stardist3D_klbOut_Cam_Long_00040.tif\"\n",
    "\n",
    "labels39 = load_tiff_array(file39)\n",
    "labels39.shape, np.unique(labels39)"
   ]
  },
  {
   "cell_type": "code",
   "execution_count": null,
   "id": "67ffcb24",
   "metadata": {},
   "outputs": [],
   "source": [
    "labels40 = load_tiff_array(file40)\n",
    "labels40.shape, np.unique(labels40)"
   ]
  },
  {
   "cell_type": "code",
   "execution_count": null,
   "id": "ccc2a315",
   "metadata": {},
   "outputs": [],
   "source": [
    "# Take 1d slices (with 3 indices)\n",
    "\n",
    "layer = 27\n",
    "\n",
    "slice39 = labels39[layer:layer+1]\n",
    "slice39.shape, np.unique(slice39)"
   ]
  },
  {
   "cell_type": "code",
   "execution_count": null,
   "id": "0ed58460",
   "metadata": {},
   "outputs": [],
   "source": [
    "slice40 = labels40[layer:layer+1]\n",
    "slice40.shape, np.unique(slice40)"
   ]
  },
  {
   "cell_type": "code",
   "execution_count": null,
   "id": "273161aa",
   "metadata": {},
   "outputs": [],
   "source": [
    "# Make the vector factory for this lineage\n",
    "from mouse_embryo_labeller.vectorizor import VectorFactory"
   ]
  },
  {
   "cell_type": "code",
   "execution_count": null,
   "id": "96918ed6",
   "metadata": {},
   "outputs": [],
   "source": [
    "VF = VectorFactory(json_graph)"
   ]
  },
  {
   "cell_type": "code",
   "execution_count": null,
   "id": "5493d316",
   "metadata": {},
   "outputs": [],
   "source": [
    "# Compute the vectorization for the slice\n",
    "D = VF.get_vectors_for_label_arrays(slice39, 39, slice40, 40)"
   ]
  },
  {
   "cell_type": "code",
   "execution_count": null,
   "id": "0acc2529",
   "metadata": {},
   "outputs": [],
   "source": [
    "# The output dictionary D has several members:\n",
    "\n",
    "# Labels translated to track numbers for the first slice.\n",
    "D[\"Atracks\"].shape"
   ]
  },
  {
   "cell_type": "code",
   "execution_count": null,
   "id": "556f7d2a",
   "metadata": {},
   "outputs": [],
   "source": [
    "# Labels translated to track numbers for the second slice.\n",
    "D[\"Btracks\"].shape"
   ]
  },
  {
   "cell_type": "code",
   "execution_count": null,
   "id": "4bb0945c",
   "metadata": {},
   "outputs": [],
   "source": [
    "# 3d vectors as a single np array.\n",
    "D[\"vectors\"].shape"
   ]
  },
  {
   "cell_type": "code",
   "execution_count": null,
   "id": "128b0a26",
   "metadata": {},
   "outputs": [],
   "source": [
    "# 3d vectors broken out by component.\n",
    "D[\"X\"].shape, D[\"Y\"].shape, D[\"Z\"].shape"
   ]
  },
  {
   "cell_type": "code",
   "execution_count": null,
   "id": "ea31709c",
   "metadata": {},
   "outputs": [],
   "source": [
    "# The vector maker can optionally be used to make a visualization of the vectorization.\n",
    "\n",
    "D[\"maker\"].widget(pixels=600)"
   ]
  },
  {
   "cell_type": "code",
   "execution_count": null,
   "id": "a89c7e39",
   "metadata": {},
   "outputs": [],
   "source": []
  }
 ],
 "metadata": {
  "kernelspec": {
   "display_name": "Python 3",
   "language": "python",
   "name": "python3"
  },
  "language_info": {
   "codemirror_mode": {
    "name": "ipython",
    "version": 3
   },
   "file_extension": ".py",
   "mimetype": "text/x-python",
   "name": "python",
   "nbconvert_exporter": "python",
   "pygments_lexer": "ipython3",
   "version": "3.6.8"
  }
 },
 "nbformat": 4,
 "nbformat_minor": 5
}
