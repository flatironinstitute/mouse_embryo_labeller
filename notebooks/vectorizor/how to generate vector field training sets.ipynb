{
 "cells": [
  {
   "cell_type": "markdown",
   "id": "c55824e1",
   "metadata": {},
   "source": [
    "# How to generate vector field training sets\n",
    "\n",
    "This notebook explains how to use the components of the `vectorizor` module to\n",
    "generate 3d vector fields from 3d label volumes."
   ]
  },
  {
   "cell_type": "markdown",
   "id": "26f76e56",
   "metadata": {},
   "source": [
    "# Parsing track data\n",
    "\n",
    "Let's assume track analysis was derived in MatLab and dumped to a JSON format similar\n",
    "to JSON format to a file that looks like the following:"
   ]
  },
  {
   "cell_type": "code",
   "execution_count": 1,
   "id": "e148bdeb",
   "metadata": {},
   "outputs": [],
   "source": [
    "file_name = \"Gata6Nanog1.json\"\n",
    "import json\n",
    "json_graph = json.load(open(file_name))"
   ]
  },
  {
   "cell_type": "code",
   "execution_count": 2,
   "id": "6b3751bd",
   "metadata": {},
   "outputs": [],
   "source": [
    "#json_graph"
   ]
  },
  {
   "cell_type": "markdown",
   "id": "7cf5b9f9",
   "metadata": {},
   "source": [
    "# Getting track mappings for the timestamps\n",
    "\n",
    "The vector generation process uses the concept of tracks across timestampe.\n",
    "These tracks need to be identified using preprocessing as follows.\n",
    "\n",
    "The following function will identify \"tracks\" connecting related labels in the JSON data:"
   ]
  },
  {
   "cell_type": "code",
   "execution_count": 3,
   "id": "5022f54f",
   "metadata": {},
   "outputs": [],
   "source": [
    "from mouse_embryo_labeller.vectorizor import make_tracks_from_haydens_json_graph\n",
    "\n",
    "timestamp_mapping = make_tracks_from_haydens_json_graph(json_graph)"
   ]
  },
  {
   "cell_type": "code",
   "execution_count": 4,
   "id": "2ae03325",
   "metadata": {},
   "outputs": [
    {
     "data": {
      "text/plain": [
       "{5: 1, 3: 2, 2: 3, 6: 4, 4: 5, 7: 6, 8: 7, 9: 8, 1: 9}"
      ]
     },
     "execution_count": 4,
     "metadata": {},
     "output_type": "execute_result"
    }
   ],
   "source": [
    "ts6m = timestamp_mapping[6]\n",
    "ts6m"
   ]
  },
  {
   "cell_type": "code",
   "execution_count": 5,
   "id": "b071b0f1",
   "metadata": {},
   "outputs": [
    {
     "data": {
      "text/plain": [
       "{5: 1, 1: 2, 3: 3, 6: 4, 9: 5, 7: 6, 2: 7, 8: 8, 4: 9}"
      ]
     },
     "execution_count": 5,
     "metadata": {},
     "output_type": "execute_result"
    }
   ],
   "source": [
    "ts7m = timestamp_mapping[7]\n",
    "ts7m"
   ]
  },
  {
   "cell_type": "markdown",
   "id": "ca6505d5",
   "metadata": {},
   "source": [
    "The 2 cells above show the track mappings for timestamps 6 and 7.\n",
    "\n",
    "The mappings indicate, for example, that in timestamp 6 label 9 maps to track 8,\n",
    "but in timestamp 7 label 8 maps to track 8.  So these two timestamps are talking about\n",
    "the same nucleus using different label numbers.\n",
    "\n",
    "These mappings are required for generating vector fields from label volume arrays.\n",
    "\n",
    "For illustration purposes let's make some fake volume arrays for timestamps 6 and 7 using\n",
    "inverse mappings:"
   ]
  },
  {
   "cell_type": "code",
   "execution_count": 6,
   "id": "dc2b396a",
   "metadata": {},
   "outputs": [],
   "source": [
    "import numpy as np\n",
    "\n",
    "inv6 = {track: label for (label, track) in ts6m.items()}\n",
    "inv7 = {track: label for (label, track) in ts7m.items()}\n",
    "\n",
    "N = 10\n",
    "A = np.zeros((N,N,N), dtype=np.int)\n",
    "B = np.zeros((N,N,N), dtype=np.int)\n",
    "\n",
    "A[2:5, 1:4, 3:6] = inv6[3]\n",
    "B[4:7, 3:6, 7:9] = inv7[3]\n",
    "\n",
    "A[5:7, 7:9, 0:2] = inv6[1]\n",
    "B[7:9, 4:7, 3:6] = inv7[1]\n",
    "\n",
    "if 0:\n",
    "    A[0,0,0] = inv6[4]\n",
    "    B[9,2,9] = inv7[4]\n",
    "\n",
    "    A[1:3,2:5,1:3] = inv6[5]\n",
    "    B[8:10,9,8:10] = inv7[5]\n",
    "\n",
    "labels6 = A\n",
    "labels7 = B"
   ]
  },
  {
   "cell_type": "markdown",
   "id": "b2aa2ab9",
   "metadata": {},
   "source": [
    "# Generating the vectors in one step:"
   ]
  },
  {
   "cell_type": "code",
   "execution_count": 7,
   "id": "01f8b6ec",
   "metadata": {},
   "outputs": [
    {
     "data": {
      "text/plain": [
       "(10, 10, 10, 3)"
      ]
     },
     "execution_count": 7,
     "metadata": {},
     "output_type": "execute_result"
    }
   ],
   "source": [
    "from mouse_embryo_labeller.vectorizor import get_track_vector_field\n",
    "\n",
    "vector_field = get_track_vector_field(\n",
    "    old_label_array=labels6, \n",
    "    old_labels_to_tracks=ts6m,\n",
    "    new_label_array=labels7,\n",
    "    new_labels_to_tracks=ts7m,\n",
    "    di = (10, 0, 0),  #  xyz offset between A[i,j,k] and A[i+1,j,k]\n",
    "    dj = (0, 10, 0),  #  xyz offset between A[i,j,k] and A[i,j+1,k]\n",
    "    dk = (0, 0, 10),  #  xyz offset between A[i,j,k] and A[i,j,k+1]\n",
    "    )\n",
    "vector_field.shape"
   ]
  },
  {
   "cell_type": "markdown",
   "id": "16513c06",
   "metadata": {},
   "source": [
    "# What is it doing?\n",
    "\n",
    "The following breaks down the steps for making the vector field and includes\n",
    "a small scale 3d illustration of the output.\n",
    "\n",
    "# First replace labels with track numbers in the arrays"
   ]
  },
  {
   "cell_type": "code",
   "execution_count": 8,
   "id": "235ca2e8",
   "metadata": {},
   "outputs": [],
   "source": [
    "from mouse_embryo_labeller.vectorizor import unify_tracks\n",
    "\n",
    "(tracks6, tracks7) = unify_tracks(\n",
    "    A=labels6,  # label array\n",
    "    A_label_2_track=ts6m,   # mapping of labels in A to track numbers\n",
    "    B=labels7,  # label array\n",
    "    B_label_2_track=ts7m,   # mapping of labels in A to track numbers\n",
    ")"
   ]
  },
  {
   "cell_type": "markdown",
   "id": "319035e0",
   "metadata": {},
   "source": [
    "# Then the VectorMaker makes the vectors connecting tracks"
   ]
  },
  {
   "cell_type": "code",
   "execution_count": 9,
   "id": "524ea16f",
   "metadata": {},
   "outputs": [
    {
     "data": {
      "text/plain": [
       "(10, 10, 10, 3)"
      ]
     },
     "execution_count": 9,
     "metadata": {},
     "output_type": "execute_result"
    }
   ],
   "source": [
    "from mouse_embryo_labeller.vectorizor import VectorMaker\n",
    "\n",
    "V = VectorMaker(tracks6, tracks7)\n",
    "V.scaled_vectors.shape"
   ]
  },
  {
   "cell_type": "markdown",
   "id": "dc9f2987",
   "metadata": {},
   "source": [
    "# For small test cases you can view the vectors in a widget"
   ]
  },
  {
   "cell_type": "code",
   "execution_count": null,
   "id": "91349f12",
   "metadata": {},
   "outputs": [],
   "source": [
    "W = V.widget()"
   ]
  },
  {
   "cell_type": "code",
   "execution_count": null,
   "id": "cdfafc23",
   "metadata": {},
   "outputs": [],
   "source": []
  }
 ],
 "metadata": {
  "kernelspec": {
   "display_name": "Python 3",
   "language": "python",
   "name": "python3"
  },
  "language_info": {
   "codemirror_mode": {
    "name": "ipython",
    "version": 3
   },
   "file_extension": ".py",
   "mimetype": "text/x-python",
   "name": "python",
   "nbconvert_exporter": "python",
   "pygments_lexer": "ipython3",
   "version": "3.6.8"
  }
 },
 "nbformat": 4,
 "nbformat_minor": 5
}
