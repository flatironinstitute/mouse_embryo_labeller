{
 "cells": [
  {
   "cell_type": "markdown",
   "id": "eaef2d69",
   "metadata": {},
   "source": [
    "# Testing the \"blend\" vectorization method\n",
    "\n",
    "This notebook demonstrates the \"blend\" vectorization mathod which\n",
    "attempts to interpolate vectors for all grid points."
   ]
  },
  {
   "cell_type": "code",
   "execution_count": 15,
   "id": "ca158e8c",
   "metadata": {},
   "outputs": [],
   "source": [
    "N = 7\n",
    "N2 = N-2\n",
    "HN = int(N/2)\n",
    "shape = (N,N+1,N+2)\n",
    "\n",
    "import numpy as np\n",
    "\n",
    "A = np.zeros(shape, dtype=np.int)\n",
    "B = np.zeros(shape, dtype=np.int)\n",
    "\n",
    "if 0:\n",
    "    A[1, 1, 1] = 1\n",
    "    B[1, 1, N2] = 1\n",
    "    \n",
    "    A[N2, N2, N2] = 2\n",
    "    B[N2, N2, 1] = 2\n",
    "    \n",
    "if 1:\n",
    "    A[HN, 1, 1] = 1\n",
    "    B[HN, 1, N2] = 1\n",
    "    \n",
    "    A[HN, 1, N2] = 2\n",
    "    B[HN-2, N2-2, N2] = 2\n",
    "\n",
    "    A[HN, N2, N2] = 3\n",
    "    B[HN, N2, 1] = 3\n",
    "\n",
    "    A[HN, N2, 1] = 4\n",
    "    B[HN, 1, 1] = 4\n",
    "\n",
    "if 0:\n",
    "    A[1,1,1] = 1\n",
    "    B[N2,1,1] = 1\n",
    "\n",
    "    A[N2,1,1] = 2\n",
    "    B[N2,N2,1] = 2\n",
    "\n",
    "    A[N2,N2,1] = 3\n",
    "    B[N2,N2,N2] = 3\n",
    "\n",
    "    A[N2,N2,N2] = 4\n",
    "    B[1,N2,N2] = 4\n",
    "\n",
    "    A[N2,N2,N2] = 5\n",
    "    B[1,1,N2] = 5\n",
    "\n",
    "    A[N2,N2,N2] = 6\n",
    "    B[1,1,1] = 6"
   ]
  },
  {
   "cell_type": "code",
   "execution_count": 16,
   "id": "c813e1f7",
   "metadata": {},
   "outputs": [
    {
     "data": {
      "text/plain": [
       "(7, 8, 9, 3)"
      ]
     },
     "execution_count": 16,
     "metadata": {},
     "output_type": "execute_result"
    }
   ],
   "source": [
    "from mouse_embryo_labeller.vectorizor import VectorMaker\n",
    "\n",
    "V = VectorMaker(A, B, method=\"blend\")\n",
    "V.scaled_vectors.shape"
   ]
  },
  {
   "cell_type": "code",
   "execution_count": 17,
   "id": "387a5b88",
   "metadata": {},
   "outputs": [
    {
     "data": {
      "application/vnd.jupyter.widget-view+json": {
       "model_id": "c229a92af54a4fca8bafe477997d56d0",
       "version_major": 2,
       "version_minor": 0
      },
      "text/plain": [
       "DualCanvasWidget(status='deferring flush until render')"
      ]
     },
     "metadata": {},
     "output_type": "display_data"
    },
    {
     "data": {
      "text/plain": [
       "<jp_doodle.nd_frame.ND_Frame at 0x7f93a09314e0>"
      ]
     },
     "execution_count": 17,
     "metadata": {},
     "output_type": "execute_result"
    }
   ],
   "source": [
    "V.widget()"
   ]
  },
  {
   "cell_type": "code",
   "execution_count": null,
   "id": "b6f37dcf",
   "metadata": {},
   "outputs": [],
   "source": []
  },
  {
   "cell_type": "code",
   "execution_count": null,
   "id": "51ebd0da",
   "metadata": {},
   "outputs": [],
   "source": []
  }
 ],
 "metadata": {
  "kernelspec": {
   "display_name": "Python 3",
   "language": "python",
   "name": "python3"
  },
  "language_info": {
   "codemirror_mode": {
    "name": "ipython",
    "version": 3
   },
   "file_extension": ".py",
   "mimetype": "text/x-python",
   "name": "python",
   "nbconvert_exporter": "python",
   "pygments_lexer": "ipython3",
   "version": "3.6.8"
  }
 },
 "nbformat": 4,
 "nbformat_minor": 5
}
