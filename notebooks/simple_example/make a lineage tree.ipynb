{
 "cells": [
  {
   "cell_type": "code",
   "execution_count": null,
   "id": "03f396a8",
   "metadata": {},
   "outputs": [],
   "source": [
    "# This notebook makes a lineage tree \"from scratch\" using source images and the low level API."
   ]
  },
  {
   "cell_type": "code",
   "execution_count": null,
   "id": "05294ac4",
   "metadata": {},
   "outputs": [],
   "source": [
    "# Uncompress the example label TIFF files\n",
    "%ls"
   ]
  },
  {
   "cell_type": "code",
   "execution_count": null,
   "id": "aa6fe231",
   "metadata": {},
   "outputs": [],
   "source": [
    "%%bash\n",
    "\n",
    "gunzip --keep tiffs.tar.gz\n",
    "tar xfv tiffs.tar\n"
   ]
  },
  {
   "cell_type": "code",
   "execution_count": null,
   "id": "1ca5e898",
   "metadata": {},
   "outputs": [],
   "source": [
    "%ls tiffs/"
   ]
  },
  {
   "cell_type": "code",
   "execution_count": null,
   "id": "719e228d",
   "metadata": {},
   "outputs": [],
   "source": [
    "# images\n",
    "%ls img/"
   ]
  },
  {
   "cell_type": "code",
   "execution_count": null,
   "id": "263c3621",
   "metadata": {},
   "outputs": [],
   "source": [
    "# destination directory for generated files\n",
    "%mkdir -p destination"
   ]
  },
  {
   "cell_type": "code",
   "execution_count": null,
   "id": "e919f04a",
   "metadata": {},
   "outputs": [],
   "source": [
    "\n",
    "from mouse_embryo_labeller import tools\n",
    "\n",
    "# File system helper makes a new timestamp and nucleus collection\n",
    "helper = tools.FileSystemHelper(\"./destination\")\n"
   ]
  },
  {
   "cell_type": "code",
   "execution_count": null,
   "id": "f1e6c224",
   "metadata": {},
   "outputs": [],
   "source": [
    "# make processed timestamp data files\n",
    "from mouse_embryo_labeller.tools import load_tiff_array\n",
    "import pyklb\n",
    "\n",
    "stride = 4 # stride for limiting image sizes\n",
    "for (num, labelsfn, imagefn) in [\n",
    "    (1, \"tiffs/l1.tiff\", \"img/i1.klb\"),\n",
    "    (2, \"tiffs/L2.tiff\", \"img/i2.klb\"),\n",
    "    (3, \"tiffs/l3.tiff\", \"img/i3.klb\"),\n",
    "    (4, \"tiffs/l4.tiff\", \"img/i4.klb\"),\n",
    "]:\n",
    "    print(\"loading\", (num, labelsfn, imagefn))\n",
    "    img = pyklb.readfull(imagefn)\n",
    "    labels = load_tiff_array(labelsfn)\n",
    "    assert img.shape == labels.shape, \"bad shapes \" + repr((img.shape, labels.shape))\n",
    "    # reduce the image sizes\n",
    "    s_img = img[:, ::stride, ::stride]\n",
    "    s_labels = labels[:, ::stride, ::stride]\n",
    "    helper.add_timestamp(num, s_img, s_labels)\n",
    "\n",
    "# get the nucleus collection and timestamp collection\n",
    "tsc = helper.stored_timestamp_collection()\n",
    "nc = helper.stored_nucleus_collection()\n",
    "\n",
    "%ls destination"
   ]
  },
  {
   "cell_type": "code",
   "execution_count": null,
   "id": "fe3366d8",
   "metadata": {},
   "outputs": [],
   "source": [
    "# make some nucei (tracks)\n",
    "n1 = nc.get_or_make_nucleus(\"n1\")\n",
    "n1.color[:] = (240, 128, 128)  # light coral\n",
    "n2 = nc.get_or_make_nucleus(\"n2\")\n",
    "n2.color[:] = (255, 105, 180)  # hot pink\n",
    "n3 = nc.get_or_make_nucleus(\"n3\")\n",
    "n3.color[:] = (255, 215, 0) # gold\n",
    "n4 = nc.get_or_make_nucleus(\"n4\")\n",
    "n4.color[:] = (46, 139, 87) # sea green\n",
    "\n",
    "# add some parent relationships\n",
    "n3.reparent(n2.identifier)\n",
    "n4.reparent(n2.identifier)"
   ]
  },
  {
   "cell_type": "code",
   "execution_count": null,
   "id": "a3ade350",
   "metadata": {},
   "outputs": [],
   "source": [
    "# map some labels in timestamps to nuclei\n",
    "ts1 = tsc.get_timestamp(1)\n",
    "ts2 = tsc.get_timestamp(2)\n",
    "ts3 = tsc.get_timestamp(3)\n",
    "ts4 = tsc.get_timestamp(4)\n",
    "\n",
    "ts1.assign_nucleus(6, n1)\n",
    "ts2.assign_nucleus(4, n1)\n",
    "ts1.assign_nucleus(1, n2)\n",
    "ts2.assign_nucleus(1, n2)\n",
    "ts3.assign_nucleus(7, n3)\n",
    "ts3.assign_nucleus(6, n4)\n",
    "\n",
    "tsc.store_all()\n",
    "nc.save_json()"
   ]
  },
  {
   "cell_type": "code",
   "execution_count": null,
   "id": "73148366",
   "metadata": {},
   "outputs": [],
   "source": [
    "from mouse_embryo_labeller import viz_controller\n",
    "from mouse_embryo_labeller import tools\n",
    "\n",
    "folder = \"./destination\"\n",
    "nc = tools.get_example_nucleus_collection(folder)\n",
    "tsc = tools.get_example_timestamp_collection(folder, nc)\n",
    "\n",
    "v = viz_controller.VizController(folder, tsc, nc)"
   ]
  },
  {
   "cell_type": "code",
   "execution_count": null,
   "id": "949dd8bf",
   "metadata": {},
   "outputs": [],
   "source": [
    "v.make_widget()"
   ]
  },
  {
   "cell_type": "code",
   "execution_count": null,
   "id": "7bfa4114",
   "metadata": {},
   "outputs": [],
   "source": []
  }
 ],
 "metadata": {
  "kernelspec": {
   "display_name": "Python 3",
   "language": "python",
   "name": "python3"
  },
  "language_info": {
   "codemirror_mode": {
    "name": "ipython",
    "version": 3
   },
   "file_extension": ".py",
   "mimetype": "text/x-python",
   "name": "python",
   "nbconvert_exporter": "python",
   "pygments_lexer": "ipython3",
   "version": "3.6.8"
  }
 },
 "nbformat": 4,
 "nbformat_minor": 5
}
