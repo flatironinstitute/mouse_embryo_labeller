{
 "cells": [
  {
   "cell_type": "markdown",
   "id": "3b00e4e7",
   "metadata": {},
   "source": [
    "# Creating nucleus and timestamp collections from a Matlab graph JSON dump\n",
    "\n",
    "This demonstration uses bogus image and label array files because for simplicity because the\n",
    "arrays are not important for constructing the lineage from the graph structures.\n",
    "\n",
    "In order to set up collections using a json dump you need to create the appropriate\n",
    "time stamp collection before assigning the labels to tracks in the timestamps.  In real usage\n",
    "this would be a separate step.  Here we fake it using bogus data."
   ]
  },
  {
   "cell_type": "code",
   "execution_count": null,
   "id": "a32d83a2",
   "metadata": {},
   "outputs": [],
   "source": [
    "%%bash\n",
    "\n",
    "gunzip --keep bogus_labels.tiff.gz\n",
    "ls"
   ]
  },
  {
   "cell_type": "code",
   "execution_count": null,
   "id": "6ad53c97",
   "metadata": {},
   "outputs": [],
   "source": [
    "json_file = \"Gata6Nanog1.json\"\n",
    "img_file = \"bogus_image.klb\"\n",
    "label_file = \"bogus_labels.tiff\""
   ]
  },
  {
   "cell_type": "code",
   "execution_count": null,
   "id": "b2deee1b",
   "metadata": {},
   "outputs": [],
   "source": [
    "import json\n",
    "from mouse_embryo_labeller import tools\n",
    "\n",
    "json_graph = json.load(open(json_file))\n",
    "#json_graph"
   ]
  },
  {
   "cell_type": "code",
   "execution_count": null,
   "id": "693a8de5",
   "metadata": {},
   "outputs": [],
   "source": [
    "parse = tools.ParseMatlabJSONDump(json_graph)\n",
    "#parse.time_stamps"
   ]
  },
  {
   "cell_type": "code",
   "execution_count": null,
   "id": "9a46e25f",
   "metadata": {
    "scrolled": true
   },
   "outputs": [],
   "source": [
    "%mkdir -p json_destination"
   ]
  },
  {
   "cell_type": "code",
   "execution_count": null,
   "id": "4e36ad1c",
   "metadata": {
    "scrolled": true
   },
   "outputs": [],
   "source": [
    "# Make an appropriate time stamp collection using the bogus array files\n",
    "from mouse_embryo_labeller.tools import load_tiff_array\n",
    "import pyklb\n",
    "\n",
    "destination = \"./json_destination\"\n",
    "helper = tools.FileSystemHelper(destination)\n",
    "\n",
    "# get the bogus image arrays\n",
    "stride = 8 # stride for limiting image sizes -- big because who cares?\n",
    "img = pyklb.readfull(img_file)\n",
    "labels = load_tiff_array(label_file)\n",
    "assert img.shape == labels.shape, \"bad shapes \" + repr((img.shape, labels.shape))\n",
    "# reduce the image sizes\n",
    "s_img = img[:, ::stride, ::stride]\n",
    "s_labels = labels[:, ::stride, ::stride]\n",
    "\n",
    "# for this demo only, we make timestamps from the JSON data sharing the same bogus images\n",
    "# this step takes a while because it copies a lot of array data.\n",
    "for timestamp in parse.time_stamps:\n",
    "    print (\"initializing timestamp\", timestamp)\n",
    "    helper.add_timestamp(timestamp, s_img, s_labels)"
   ]
  },
  {
   "cell_type": "code",
   "execution_count": null,
   "id": "df1640a1",
   "metadata": {},
   "outputs": [],
   "source": [
    "# save the collections\n",
    "# get the nucleus collection and timestamp collection\n",
    "tsc = helper.stored_timestamp_collection()\n",
    "nc = helper.stored_nucleus_collection()"
   ]
  },
  {
   "cell_type": "code",
   "execution_count": null,
   "id": "9bfe7782",
   "metadata": {
    "scrolled": false
   },
   "outputs": [],
   "source": [
    "# get the nucleus collection and timestamp collection\n",
    "from mouse_embryo_labeller import viz_controller\n",
    "from mouse_embryo_labeller import tools\n",
    "\n",
    "folder = \"./json_destination\"\n",
    "nc = tools.get_example_nucleus_collection(folder)\n",
    "tsc = tools.get_example_timestamp_collection(folder, nc)"
   ]
  },
  {
   "cell_type": "code",
   "execution_count": null,
   "id": "b52cb445",
   "metadata": {
    "scrolled": false
   },
   "outputs": [],
   "source": [
    "json_file = \"Gata6Nanog1.json\"\n",
    "\n",
    "import json\n",
    "from mouse_embryo_labeller import tools\n",
    "\n",
    "json_graph = json.load(open(json_file))\n",
    "\n",
    "parse.install_lineage_in_collections(tsc, nc)\n",
    "\n",
    "tsc.store_all()\n",
    "nc.save_json()"
   ]
  },
  {
   "cell_type": "code",
   "execution_count": null,
   "id": "45012099",
   "metadata": {},
   "outputs": [],
   "source": []
  },
  {
   "cell_type": "code",
   "execution_count": null,
   "id": "525e2323",
   "metadata": {},
   "outputs": [],
   "source": [
    "%ls json_destination/ts0*"
   ]
  },
  {
   "cell_type": "code",
   "execution_count": null,
   "id": "f2a7a30d",
   "metadata": {},
   "outputs": [],
   "source": [
    "from mouse_embryo_labeller import viz_controller\n",
    "v = viz_controller.VizController(folder, tsc, nc)"
   ]
  },
  {
   "cell_type": "code",
   "execution_count": null,
   "id": "6da9456f",
   "metadata": {},
   "outputs": [],
   "source": [
    "v.make_widget()"
   ]
  },
  {
   "cell_type": "code",
   "execution_count": null,
   "id": "1c8c389e",
   "metadata": {
    "scrolled": false
   },
   "outputs": [],
   "source": [
    "parse.node2parent"
   ]
  },
  {
   "cell_type": "code",
   "execution_count": null,
   "id": "df18930e",
   "metadata": {},
   "outputs": [],
   "source": []
  }
 ],
 "metadata": {
  "kernelspec": {
   "display_name": "Python 3",
   "language": "python",
   "name": "python3"
  },
  "language_info": {
   "codemirror_mode": {
    "name": "ipython",
    "version": 3
   },
   "file_extension": ".py",
   "mimetype": "text/x-python",
   "name": "python",
   "nbconvert_exporter": "python",
   "pygments_lexer": "ipython3",
   "version": "3.6.8"
  }
 },
 "nbformat": 4,
 "nbformat_minor": 5
}
