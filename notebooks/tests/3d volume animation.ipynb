{
 "cells": [
  {
   "cell_type": "markdown",
   "id": "001ca2db",
   "metadata": {},
   "source": [
    "# Generating a 3d volume animation\n",
    "\n",
    "The 3d volume animation requires the latest versions of `mouse_embryo_labeller`, `jp_doodle`, and\n",
    "`feedWebGL2`.  Please install these repositories as described in the package README.md or\n",
    "update the repositories using `git pull` in the install folders.\n",
    "\n",
    "The volume animation works by scraping images drawn into a Jupyter widget in steps:\n",
    "\n",
    "- Create the controller;\n",
    "- Instantiate the widget;\n",
    "- Then start the scraper procedure to generate a list of images;\n",
    "- Then export the images as an animated GIF.\n"
   ]
  },
  {
   "cell_type": "code",
   "execution_count": null,
   "id": "93c21a3f",
   "metadata": {},
   "outputs": [],
   "source": [
    "# First create the controller.\n",
    "# By default the controller will include all nucleus tracks in the data if no nuclei are specified.\n",
    "# The controller scans the label images to determine the required volume.\n",
    "# The scanning process may take a while to complete if the data set is large.\n",
    "\n",
    "folder = '../../example_data/'\n",
    "from mouse_embryo_labeller import volume_viz\n",
    "V = volume_viz.EmbryoVolume(folder=folder, width=4000)"
   ]
  },
  {
   "cell_type": "code",
   "execution_count": null,
   "id": "86197b64",
   "metadata": {},
   "outputs": [],
   "source": [
    "# Then create the widget to use for the scraping process:\n",
    "\n",
    "V.make_combo_widget()"
   ]
  },
  {
   "cell_type": "code",
   "execution_count": null,
   "id": "149d3c7b",
   "metadata": {},
   "outputs": [],
   "source": [
    "# Then start the scraping process to scrape a list of images:\n",
    "\n",
    "images = V.capture_combo_images()"
   ]
  },
  {
   "cell_type": "code",
   "execution_count": null,
   "id": "547c244f",
   "metadata": {},
   "outputs": [],
   "source": [
    "# Then export the images as an animated GIF\n",
    "\n",
    "volume_viz.save_images_to_gif(images, filename=\"example.gif\")"
   ]
  },
  {
   "cell_type": "markdown",
   "id": "78fdc9b5",
   "metadata": {},
   "source": [
    "Here is the result:\n",
    "\n",
    "<img src=\"example.gif\" width=\"1000\"/>\n",
    "\n",
    "# Specifying embryo track names\n",
    "\n",
    "You can restrict the number of tracks displayed in the animation by listing track names of interest:"
   ]
  },
  {
   "cell_type": "code",
   "execution_count": null,
   "id": "2e269575",
   "metadata": {},
   "outputs": [],
   "source": [
    "names = \"a d e\".split()\n",
    "V2 = volume_viz.EmbryoVolume(folder=folder, width=4000, nuclei_names=names)"
   ]
  },
  {
   "cell_type": "code",
   "execution_count": null,
   "id": "cf4a82c6",
   "metadata": {},
   "outputs": [],
   "source": [
    "# Then create the widget to use for the scraping process:\n",
    "\n",
    "V2.make_combo_widget()"
   ]
  },
  {
   "cell_type": "code",
   "execution_count": null,
   "id": "59219da2",
   "metadata": {},
   "outputs": [],
   "source": [
    "# Then start the scraping process to scrape a list of images:\n",
    "\n",
    "images2 = V2.capture_combo_images()"
   ]
  },
  {
   "cell_type": "code",
   "execution_count": null,
   "id": "a83b7edd",
   "metadata": {},
   "outputs": [],
   "source": [
    "# Then export the images as an animated GIF\n",
    "\n",
    "volume_viz.save_images_to_gif(images2, filename=\"example2.gif\")"
   ]
  },
  {
   "cell_type": "markdown",
   "id": "247583c8",
   "metadata": {},
   "source": [
    "Here is the result:\n",
    "\n",
    "<img src=\"example2.gif\" width=\"1000\"/>"
   ]
  },
  {
   "cell_type": "code",
   "execution_count": null,
   "id": "acdaef8f",
   "metadata": {},
   "outputs": [],
   "source": []
  }
 ],
 "metadata": {
  "kernelspec": {
   "display_name": "Python 3",
   "language": "python",
   "name": "python3"
  },
  "language_info": {
   "codemirror_mode": {
    "name": "ipython",
    "version": 3
   },
   "file_extension": ".py",
   "mimetype": "text/x-python",
   "name": "python",
   "nbconvert_exporter": "python",
   "pygments_lexer": "ipython3",
   "version": "3.6.8"
  }
 },
 "nbformat": 4,
 "nbformat_minor": 5
}
