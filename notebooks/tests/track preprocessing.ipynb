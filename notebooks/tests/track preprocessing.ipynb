{
 "cells": [
  {
   "cell_type": "code",
   "execution_count": null,
   "id": "f56e0761",
   "metadata": {},
   "outputs": [],
   "source": [
    "from mouse_embryo_labeller import tools"
   ]
  },
  {
   "cell_type": "code",
   "execution_count": null,
   "id": "7a32990d",
   "metadata": {},
   "outputs": [],
   "source": [
    "x = tools.read_track_table_to_tsnum2label2track()\n",
    "#x"
   ]
  },
  {
   "cell_type": "code",
   "execution_count": null,
   "id": "671bce4d",
   "metadata": {
    "scrolled": false
   },
   "outputs": [],
   "source": [
    "\n",
    "TRACKED_FOLDER = \"../../tracked_example\"\n",
    "LABELS_PATTERN = \"/Users/awatters/misc/LisaBrown/tracks/fucci/fucci_%(ts_number)s_Labels.tiff\"\n",
    "INTENSITIES_SUBDIR = \"folder_Cam_Long_%(ts_number)05d/klbOut_Cam_Long_%(ts_number)05d.klb\"\n",
    "INTENSITIES_PATTERN = \"/Users/awatters/misc/LisaBrown/tracks/images/fucci_images_BigSet/\" + INTENSITIES_SUBDIR\n",
    "\n",
    "helper = tools.preprocess_tracked_data(\n",
    "    stride=4,\n",
    "    destination=TRACKED_FOLDER,\n",
    "    labels_pattern=LABELS_PATTERN,\n",
    "    intensities_pattern=INTENSITIES_PATTERN,)"
   ]
  },
  {
   "cell_type": "code",
   "execution_count": null,
   "id": "0bcddfc6",
   "metadata": {},
   "outputs": [],
   "source": [
    "helper.load_track_data(x)"
   ]
  },
  {
   "cell_type": "code",
   "execution_count": null,
   "id": "e115f35f",
   "metadata": {},
   "outputs": [],
   "source": []
  }
 ],
 "metadata": {
  "kernelspec": {
   "display_name": "Python 3",
   "language": "python",
   "name": "python3"
  },
  "language_info": {
   "codemirror_mode": {
    "name": "ipython",
    "version": 3
   },
   "file_extension": ".py",
   "mimetype": "text/x-python",
   "name": "python",
   "nbconvert_exporter": "python",
   "pygments_lexer": "ipython3",
   "version": "3.6.8"
  }
 },
 "nbformat": 4,
 "nbformat_minor": 5
}
