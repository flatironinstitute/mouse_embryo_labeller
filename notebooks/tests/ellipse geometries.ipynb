{
 "cells": [
  {
   "cell_type": "markdown",
   "id": "fd4abc51",
   "metadata": {},
   "source": [
    "# Generating ellipse visualizations\n",
    "\n",
    "This notebook demonstrates how to generate an interactive ellipse visualization\n",
    "and how to generate an animated GIF from the visualization.\n",
    "\n",
    "The visualization is derived from a timestamp collection.\n",
    "Here we use the example collection provided by the repository."
   ]
  },
  {
   "cell_type": "code",
   "execution_count": 1,
   "id": "50acf77b",
   "metadata": {},
   "outputs": [
    {
     "data": {
      "text/plain": [
       "'../../example_data/'"
      ]
     },
     "execution_count": 1,
     "metadata": {},
     "output_type": "execute_result"
    }
   ],
   "source": [
    "from mouse_embryo_labeller import tools\n",
    "folder = \"../\" + tools.EXAMPLE_FOLDER\n",
    "folder"
   ]
  },
  {
   "cell_type": "code",
   "execution_count": 2,
   "id": "0fdf067d",
   "metadata": {},
   "outputs": [],
   "source": [
    "nc = tools.get_example_nucleus_collection(folder)\n",
    "tsc = tools.get_example_timestamp_collection(folder, nc)"
   ]
  },
  {
   "cell_type": "code",
   "execution_count": 3,
   "id": "6649b0a1",
   "metadata": {},
   "outputs": [],
   "source": [
    "from mouse_embryo_labeller import geometry"
   ]
  },
  {
   "cell_type": "code",
   "execution_count": 4,
   "id": "1a290448",
   "metadata": {},
   "outputs": [],
   "source": [
    "# The geometry parameters are cached in a JSON file because they are expensive to calculate.\n",
    "\n",
    "fn = \"tsc_geometry.json\""
   ]
  },
  {
   "cell_type": "code",
   "execution_count": 5,
   "id": "3c4cba11",
   "metadata": {
    "scrolled": true
   },
   "outputs": [],
   "source": [
    "# Set building = True to regenerate the JSON file here.\n",
    "# For large collections this generation process can take a while (a minute or so per time stamp.)\n",
    "\n",
    "building = False\n",
    "if building:\n",
    "    geometry.preprocess_geometry_to_json(tsc, fn, di=2.0, dj=4 * 0.208, dk=4 *0.208)"
   ]
  },
  {
   "cell_type": "code",
   "execution_count": 6,
   "id": "a5d4a882",
   "metadata": {
    "scrolled": true
   },
   "outputs": [],
   "source": [
    "#%%bash\n",
    "#head -n 200 tsc_geometry.json"
   ]
  },
  {
   "cell_type": "code",
   "execution_count": 7,
   "id": "04ab170f",
   "metadata": {},
   "outputs": [],
   "source": [
    "# Once the JSON file is available, load it to create a viewer as follows.\n",
    "\n",
    "import json\n",
    "f = open(fn)\n",
    "tscg = json.load(f)"
   ]
  },
  {
   "cell_type": "code",
   "execution_count": 8,
   "id": "5c06ea63",
   "metadata": {},
   "outputs": [],
   "source": [
    "GV = geometry.GeometryViewer(tscg)"
   ]
  },
  {
   "cell_type": "code",
   "execution_count": 9,
   "id": "52e86a74",
   "metadata": {
    "scrolled": false
   },
   "outputs": [
    {
     "data": {
      "text/html": [
       "<style>.container { width:100% !important; }</style>"
      ],
      "text/plain": [
       "<IPython.core.display.HTML object>"
      ]
     },
     "metadata": {},
     "output_type": "display_data"
    },
    {
     "data": {
      "application/vnd.jupyter.widget-view+json": {
       "model_id": "55a38a03fc5846318f1478ce6911a252",
       "version_major": 2,
       "version_minor": 0
      },
      "text/plain": [
       "VBox(children=(IntSlider(value=0, description='timestamp', max=10), DualCanvasWidget(status='deferring flush u…"
      ]
     },
     "metadata": {},
     "output_type": "display_data"
    }
   ],
   "source": [
    "# Display the viewer widget:\n",
    "\n",
    "GV.widget()"
   ]
  },
  {
   "cell_type": "code",
   "execution_count": 10,
   "id": "93d6538e",
   "metadata": {},
   "outputs": [
    {
     "name": "stdout",
     "output_type": "stream",
     "text": [
      "Saved Ellipses.gif as animated GIF.\n"
     ]
    }
   ],
   "source": [
    "# save the timestamp frames as an animated gif:\n",
    "\n",
    "GV.save_animated_gif(\"Ellipses.gif\", duration=1.0)"
   ]
  },
  {
   "cell_type": "markdown",
   "id": "9f5c4222",
   "metadata": {},
   "source": [
    "<img src=\"Ellipses.gif?version=2\"/>"
   ]
  },
  {
   "cell_type": "code",
   "execution_count": null,
   "id": "46c14c82",
   "metadata": {},
   "outputs": [],
   "source": []
  }
 ],
 "metadata": {
  "kernelspec": {
   "display_name": "Python 3",
   "language": "python",
   "name": "python3"
  },
  "language_info": {
   "codemirror_mode": {
    "name": "ipython",
    "version": 3
   },
   "file_extension": ".py",
   "mimetype": "text/x-python",
   "name": "python",
   "nbconvert_exporter": "python",
   "pygments_lexer": "ipython3",
   "version": "3.6.8"
  }
 },
 "nbformat": 4,
 "nbformat_minor": 5
}
