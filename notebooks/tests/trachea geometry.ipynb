{
 "cells": [
  {
   "cell_type": "markdown",
   "id": "939a2c3f",
   "metadata": {},
   "source": [
    "# Extracting simplified geometry from 3d microscopy volumes\n",
    "\n",
    "This notebook illustrates how to derive a weighted undirected graph from a 3d dense volume.\n",
    "The undirected graph provides a sort of simplified description of the geometry of isosurfaces of the volume.\n",
    "\n",
    "First get volume data:"
   ]
  },
  {
   "cell_type": "code",
   "execution_count": null,
   "id": "b27cb02d",
   "metadata": {},
   "outputs": [],
   "source": [
    "%ls ../../misc_data"
   ]
  },
  {
   "cell_type": "code",
   "execution_count": null,
   "id": "3d2e06d6",
   "metadata": {},
   "outputs": [],
   "source": [
    "fn = \"../../misc_data/trachea_raw_8p.tif\""
   ]
  },
  {
   "cell_type": "code",
   "execution_count": null,
   "id": "1578a9e1",
   "metadata": {},
   "outputs": [],
   "source": [
    "from mouse_embryo_labeller import tools\n",
    "import numpy as np\n",
    "from scipy.ndimage import gaussian_filter"
   ]
  },
  {
   "cell_type": "code",
   "execution_count": null,
   "id": "eadc7dfc",
   "metadata": {},
   "outputs": [],
   "source": [
    "# Load the full resolution raw data.\n",
    "V = tools.load_tiff_array(fn)\n",
    "\n",
    "# Smooth the volume to eliminate some noise\n",
    "V = gaussian_filter(V, sigma=4)\n",
    "\n",
    "# Subsample the volume to a smaller size to make it tractible.\n",
    "stride = 4\n",
    "Vol = V[:, ::stride, ::stride]\n",
    "\n",
    "# Flip axes for presentation.\n",
    "Vol = np.swapaxes(Vol, 0, 2)\n",
    "Vol.shape"
   ]
  },
  {
   "cell_type": "code",
   "execution_count": null,
   "id": "e7407892",
   "metadata": {},
   "outputs": [],
   "source": [
    "# Slice out the section of the volume of interest\n",
    "Vsliced = Vol[29:105, 0:128, 0:21]\n",
    "Vsliced.shape"
   ]
  },
  {
   "cell_type": "code",
   "execution_count": null,
   "id": "a7503b73",
   "metadata": {},
   "outputs": [],
   "source": [
    "# View the volume and optionally adjust the view to select the isosurface of interest.\n",
    "from feedWebGL2 import volume\n",
    "\n",
    "volume.widen_notebook()\n",
    "W = volume.Volume32()\n",
    "\n",
    "W"
   ]
  },
  {
   "cell_type": "code",
   "execution_count": null,
   "id": "9ace34d1",
   "metadata": {},
   "outputs": [],
   "source": [
    "# The 'tetrahedra' method supports capturing triangle and normal geometry from the volume\n",
    "W.load_3d_numpy_array(Vsliced, threshold=8.1, axis_length=False, method=\"tetrahedra\", dk=dict(x=0, y=0, z=0.2))\n",
    "\n",
    "x = W.build(1500)"
   ]
  },
  {
   "cell_type": "code",
   "execution_count": null,
   "id": "d4079fe7",
   "metadata": {},
   "outputs": [],
   "source": [
    "# Get the isosurface triangles from the volume display geometry.\n",
    "triangles = W.triangles_and_normals(just_triangles=True)\n",
    "\n",
    "triangles.shape"
   ]
  },
  {
   "cell_type": "code",
   "execution_count": null,
   "id": "827f5ea0",
   "metadata": {},
   "outputs": [],
   "source": [
    "# Initialize the topology analysis tool with the isosurface triangle geometry\n",
    "# Initialization takes some time.\n",
    "from mouse_embryo_labeller import  topoFinder\n",
    "\n",
    "T = topoFinder.TopologyFinder(triangles)\n",
    "len(T.vertex_to_edges)"
   ]
  },
  {
   "cell_type": "code",
   "execution_count": null,
   "id": "aedf8c82",
   "metadata": {},
   "outputs": [],
   "source": [
    "# Collapse edges until all triangles have been eliminated.\n",
    "# This step takes a while.\n",
    "count = 0\n",
    "while T.triangle_to_edges:\n",
    "    count += 1\n",
    "    if count % 10000 == 1:\n",
    "        print(count, len(T.vertex_to_edges))\n",
    "    T.optimized_collapse_edge(redraw=False)"
   ]
  },
  {
   "cell_type": "code",
   "execution_count": null,
   "id": "b2368368",
   "metadata": {},
   "outputs": [],
   "source": [
    "print(count, len(T.vertex_to_edges))"
   ]
  },
  {
   "cell_type": "code",
   "execution_count": null,
   "id": "61a2b6a3",
   "metadata": {},
   "outputs": [],
   "source": [
    "# View the simplified geometry (2D view)\n",
    "T.doodle()"
   ]
  },
  {
   "cell_type": "code",
   "execution_count": null,
   "id": "19f7556b",
   "metadata": {},
   "outputs": [],
   "source": [
    "# Extract the derived vertices, weights, and edges for downstream processing.\n",
    "(rescaled_vertices, rescaled_weights, edge_indices) = T.vertices_weights_and_edge_indices()"
   ]
  },
  {
   "cell_type": "code",
   "execution_count": null,
   "id": "b050e5ff",
   "metadata": {},
   "outputs": [],
   "source": [
    "# Examine the vertices:\n",
    "print(rescaled_vertices.shape, rescaled_vertices.min(axis=0), rescaled_vertices.max(axis=0))\n",
    "rescaled_vertices[:10]"
   ]
  },
  {
   "cell_type": "code",
   "execution_count": null,
   "id": "fda28dcc",
   "metadata": {},
   "outputs": [],
   "source": [
    "# Examine the vertex weights:\n",
    "print(rescaled_weights.shape, rescaled_weights.min(), rescaled_weights.max())\n",
    "rescaled_weights[:10]"
   ]
  },
  {
   "cell_type": "code",
   "execution_count": null,
   "id": "3b720d14",
   "metadata": {},
   "outputs": [],
   "source": [
    "# Examine the undirected edges:\n",
    "print(edge_indices.shape)\n",
    "edge_indices[:10]"
   ]
  },
  {
   "cell_type": "code",
   "execution_count": null,
   "id": "d7b568f5",
   "metadata": {},
   "outputs": [],
   "source": []
  }
 ],
 "metadata": {
  "kernelspec": {
   "display_name": "Python 3",
   "language": "python",
   "name": "python3"
  },
  "language_info": {
   "codemirror_mode": {
    "name": "ipython",
    "version": 3
   },
   "file_extension": ".py",
   "mimetype": "text/x-python",
   "name": "python",
   "nbconvert_exporter": "python",
   "pygments_lexer": "ipython3",
   "version": "3.6.8"
  }
 },
 "nbformat": 4,
 "nbformat_minor": 5
}
