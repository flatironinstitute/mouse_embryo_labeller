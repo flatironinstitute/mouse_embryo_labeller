{
 "cells": [
  {
   "cell_type": "markdown",
   "id": "a018261a",
   "metadata": {},
   "source": [
    "# Maddy data processing\n",
    "\n",
    "This is an example of preparing collections from the \"Maddy data\" format.\n",
    "\n",
    "To parse the 64 bit TIFF files of the folder we need to scikit image:\n",
    "\n",
    "```\n",
    "pip install sk_image\n",
    "```"
   ]
  },
  {
   "cell_type": "code",
   "execution_count": null,
   "id": "74a28052",
   "metadata": {},
   "outputs": [],
   "source": [
    "%ls '/Users/awatters/misc/Abraham_Kohrman/maddy_data'"
   ]
  },
  {
   "cell_type": "code",
   "execution_count": null,
   "id": "b29f0f84",
   "metadata": {},
   "outputs": [],
   "source": [
    "MADDY_FOLDER = '/Users/awatters/misc/Abraham_Kohrman/maddy_data'"
   ]
  },
  {
   "cell_type": "code",
   "execution_count": null,
   "id": "c70bdda7",
   "metadata": {},
   "outputs": [],
   "source": [
    "from mouse_embryo_labeller import tools"
   ]
  },
  {
   "cell_type": "code",
   "execution_count": null,
   "id": "b9c0fad2",
   "metadata": {},
   "outputs": [],
   "source": [
    "# The following has a lot of configurable optional parameters -- please use the source for more info.\n",
    "\n",
    "helper = tools.prepare_collection_for_maddy_data(MADDY_FOLDER)"
   ]
  },
  {
   "cell_type": "code",
   "execution_count": null,
   "id": "bef1ab2f",
   "metadata": {},
   "outputs": [],
   "source": [
    "# open the collections\n",
    "\n",
    "folder = MADDY_FOLDER + \"/collection\"\n",
    "\n",
    "# empty nucleus collection\n",
    "nc = tools.get_example_nucleus_collection(folder)"
   ]
  },
  {
   "cell_type": "code",
   "execution_count": null,
   "id": "506ec4a2",
   "metadata": {},
   "outputs": [],
   "source": [
    "# timestamp collection\n",
    "tsc = tools.get_example_timestamp_collection(folder, nc)"
   ]
  },
  {
   "cell_type": "code",
   "execution_count": null,
   "id": "c384bfeb",
   "metadata": {},
   "outputs": [],
   "source": [
    "# view the timestamps\n",
    "from mouse_embryo_labeller import viz_controller\n",
    "v = viz_controller.VizController(folder, tsc, nc)"
   ]
  },
  {
   "cell_type": "code",
   "execution_count": null,
   "id": "30a12ff4",
   "metadata": {},
   "outputs": [],
   "source": [
    "v.make_widget()"
   ]
  },
  {
   "cell_type": "code",
   "execution_count": null,
   "id": "c996d084",
   "metadata": {},
   "outputs": [],
   "source": []
  }
 ],
 "metadata": {
  "kernelspec": {
   "display_name": "Python 3",
   "language": "python",
   "name": "python3"
  },
  "language_info": {
   "codemirror_mode": {
    "name": "ipython",
    "version": 3
   },
   "file_extension": ".py",
   "mimetype": "text/x-python",
   "name": "python",
   "nbconvert_exporter": "python",
   "pygments_lexer": "ipython3",
   "version": "3.6.8"
  }
 },
 "nbformat": 4,
 "nbformat_minor": 5
}
