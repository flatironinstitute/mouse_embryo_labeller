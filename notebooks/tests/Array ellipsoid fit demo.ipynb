{
 "cells": [
  {
   "cell_type": "markdown",
   "id": "5ee7d582",
   "metadata": {},
   "source": [
    "# Fitting ellipsoids to labelled volume data\n",
    "\n",
    "This notebook demonstrates how to fit ellipsoids to labelled volume data and then\n",
    "compare the ellipsoids using various calculations and statistics.\n",
    "\n",
    "First get a labelled volume from the example data (or somewhere else):"
   ]
  },
  {
   "cell_type": "code",
   "execution_count": 1,
   "id": "000084b5",
   "metadata": {},
   "outputs": [
    {
     "data": {
      "text/plain": [
       "'../../example_data/'"
      ]
     },
     "execution_count": 1,
     "metadata": {},
     "output_type": "execute_result"
    }
   ],
   "source": [
    "from mouse_embryo_labeller import tools\n",
    "folder = \"../\" + tools.EXAMPLE_FOLDER\n",
    "folder"
   ]
  },
  {
   "cell_type": "code",
   "execution_count": 2,
   "id": "e31e5538",
   "metadata": {},
   "outputs": [
    {
     "data": {
      "text/plain": [
       "dict_keys([0, 1, 2, 3, 4, 5, 6, 7, 8, 9, 10])"
      ]
     },
     "execution_count": 2,
     "metadata": {},
     "output_type": "execute_result"
    }
   ],
   "source": [
    "nc = tools.get_example_nucleus_collection(folder)\n",
    "tsc = tools.get_example_timestamp_collection(folder, nc)\n",
    "tsc.id_to_timestamp.keys()"
   ]
  },
  {
   "cell_type": "code",
   "execution_count": 3,
   "id": "a6e24056",
   "metadata": {},
   "outputs": [
    {
     "data": {
      "text/plain": [
       "(71, 180, 247)"
      ]
     },
     "execution_count": 3,
     "metadata": {},
     "output_type": "execute_result"
    }
   ],
   "source": [
    "ts = tsc.id_to_timestamp[10]\n",
    "ts.load_truncated_arrays()\n",
    "label_array = ts.l3d_truncated\n",
    "label_array.shape"
   ]
  },
  {
   "cell_type": "code",
   "execution_count": 4,
   "id": "bdaf8c3d",
   "metadata": {},
   "outputs": [
    {
     "data": {
      "text/plain": [
       "array([0, 1, 2, 3, 4, 5, 6, 7, 8])"
      ]
     },
     "execution_count": 4,
     "metadata": {},
     "output_type": "execute_result"
    }
   ],
   "source": [
    "# The label array contains a small number of labels in a numpy int array:\n",
    "import numpy as np\n",
    "np.unique(label_array)"
   ]
  },
  {
   "cell_type": "code",
   "execution_count": 5,
   "id": "a9f35aab",
   "metadata": {},
   "outputs": [
    {
     "data": {
      "application/vnd.jupyter.widget-view+json": {
       "model_id": "e5fb6040423742c1a4651432d0494c46",
       "version_major": 2,
       "version_minor": 0
      },
      "text/plain": [
       "VBox(children=(IntSlider(value=0, description='index', max=70), DualCanvasWidget(status='deferring flush until…"
      ]
     },
     "metadata": {},
     "output_type": "display_data"
    }
   ],
   "source": [
    "# View the raw array.  Slide the slider to move between layers.\n",
    "from jp_doodle import array_image\n",
    "array_image.show_arrays(label_array)"
   ]
  },
  {
   "cell_type": "code",
   "execution_count": 6,
   "id": "de0f133a",
   "metadata": {},
   "outputs": [],
   "source": [
    "# Create an array fitter object for this array and adjust the coordinates\n",
    "# so the array maps to a geometric unit cube, using di, dj, dk.\n",
    "\n",
    "from mouse_embryo_labeller.ellipsoid_fit import ArrayFitter\n",
    "\n",
    "(I, J, K) = label_array.shape\n",
    "AF = ArrayFitter(label_array, di=1.0/I, dj=1.0/J, dk=1.0/K)"
   ]
  },
  {
   "cell_type": "code",
   "execution_count": 7,
   "id": "d2dd60bc",
   "metadata": {},
   "outputs": [
    {
     "data": {
      "application/vnd.jupyter.widget-view+json": {
       "model_id": "557b44a388b94ab28e911dfc020b923b",
       "version_major": 2,
       "version_minor": 0
      },
      "text/plain": [
       "HBox(children=(DualCanvasWidget(status='deferring flush until render'), DualCanvasWidget(status='deferring flu…"
      ]
     },
     "metadata": {},
     "output_type": "display_data"
    }
   ],
   "source": [
    "# Fit all labels (>0) inside a single ellipse and display a jupyter widgets graphic of the fit.\n",
    "# Use 1000 randomly chosen test points for the fit.\n",
    "\n",
    "info = AF.fit_ellipse_to_range(lower_limit=1, upper_limit=None, display=True, point_limit=1000)"
   ]
  },
  {
   "cell_type": "code",
   "execution_count": 8,
   "id": "62ed127d",
   "metadata": {},
   "outputs": [],
   "source": [
    "# Drag the mouse in the generated graphic to rotate the figures."
   ]
  },
  {
   "cell_type": "code",
   "execution_count": 9,
   "id": "9c9aaf33",
   "metadata": {},
   "outputs": [
    {
     "name": "stdout",
     "output_type": "stream",
     "text": [
      "Statistics\n",
      "axes [[ 0.17407219 -0.07438457 -0.00227515]\n",
      " [ 0.12016935  0.28039302  0.0269119 ]\n",
      " [-0.00447138 -0.01625435  0.18931886]]\n",
      "axis lengths [0.189312882310212, 0.30624363851760283, 0.19006796075560514]\n",
      "volume 0.046157764628599114 surface_area 0.6457129835125743 sphericity 0.963698355056072\n",
      "center [0.36898536 0.614798   0.49575449]\n"
     ]
    }
   ],
   "source": [
    "print(\"Statistics\")\n",
    "print(\"axes\", info.axes())\n",
    "print(\"axis lengths\", info.axis_lengths())\n",
    "print(\"volume\", info.volume(), \"surface_area\", info.surface_area(), \"sphericity\", info.sphericity())\n",
    "print(\"center\", info.center)"
   ]
  },
  {
   "cell_type": "code",
   "execution_count": 10,
   "id": "2a13ba6c",
   "metadata": {},
   "outputs": [],
   "source": [
    "# Fit ellipses to each labelled region separately (don't display widgets).\n",
    "\n",
    "label_to_info = {}\n",
    "for i in np.unique(label_array):\n",
    "    if i > 0:\n",
    "        label_to_info[i] = AF.fit_ellipse_to_range(lower_limit=i, upper_limit=i, point_limit=1000)"
   ]
  },
  {
   "cell_type": "code",
   "execution_count": 11,
   "id": "442b520e",
   "metadata": {},
   "outputs": [
    {
     "name": "stdout",
     "output_type": "stream",
     "text": [
      "1 offset 0.772651889042694 inside? 0.9241803278688525 to center 0.14669466606318132 to surface 0.043164011749584015\n",
      "2 offset 0.8626721741700178 inside? 0.9651639344262296 to center 0.23787351208412869 to surface 0.03786682034630845\n",
      "3 offset 0.7678366477950722 inside? 1 to center 0.14765193902021007 to surface 0.044644090928619526\n",
      "4 offset 0.7788932340507121 inside? 0.9836065573770493 to center 0.19984887321434966 to surface 0.05673170096141454\n",
      "5 offset 0.7483263034515352 inside? 1 to center 0.1995677411328054 to surface 0.06711771441289853\n",
      "6 offset 0.8158422230196257 inside? 0.9672131147540984 to center 0.15816658591505672 to surface 0.035702499861902236\n",
      "7 offset 0.6638749072398963 inside? 1 to center 0.13174035541021356 to surface 0.06670117924265168\n",
      "8 offset 0.8777426219733535 inside? 0.889344262295082 to center 0.2512297581337347 to surface 0.034992822204128284\n"
     ]
    }
   ],
   "source": [
    "# Show relationship of each label ellipse to the ellipse containing all labels.\n",
    "for i in sorted(label_to_info):\n",
    "    label_info = label_to_info[i]\n",
    "    print(\n",
    "        i,\n",
    "        \"offset\", \n",
    "        label_info.relative_offset_to_center_of(info),\n",
    "        \"inside?\", \n",
    "        label_info.proportion_inside_of(info),\n",
    "        \"to center\",\n",
    "        label_info.center_distance_to_center_of(info),\n",
    "        \"to surface\",\n",
    "        label_info.center_distance_to_surface_of(info)\n",
    "    )"
   ]
  },
  {
   "cell_type": "code",
   "execution_count": 12,
   "id": "42b896d7",
   "metadata": {},
   "outputs": [
    {
     "name": "stdout",
     "output_type": "stream",
     "text": [
      "\n",
      "        Linear measure of how near the center of this ellipse is to the center of the other\n",
      "        ellipse.  Returns 0 at the center, 1 at the boundary of the ellipse and > 1 outside the ellipse.\n",
      "        \n"
     ]
    }
   ],
   "source": [
    "print(info.relative_offset_to_center_of.__doc__)"
   ]
  },
  {
   "cell_type": "code",
   "execution_count": 13,
   "id": "c1334884",
   "metadata": {},
   "outputs": [
    {
     "name": "stdout",
     "output_type": "stream",
     "text": [
      "\n",
      "        Return approximate proportion of this ellipse inside the other ellipse by relative volume.\n",
      "        Returns 1 if completely inside and 0 if there is (nearly) no intersection.\n",
      "        \n"
     ]
    }
   ],
   "source": [
    "print(info.proportion_inside_of.__doc__)"
   ]
  },
  {
   "cell_type": "code",
   "execution_count": 14,
   "id": "c2f3464a",
   "metadata": {},
   "outputs": [
    {
     "name": "stdout",
     "output_type": "stream",
     "text": [
      "Distance between the center of this ellipsoid to the center of the other ellipsoid.\n"
     ]
    }
   ],
   "source": [
    "print(info.center_distance_to_center_of.__doc__)"
   ]
  },
  {
   "cell_type": "code",
   "execution_count": 15,
   "id": "a76055e2",
   "metadata": {},
   "outputs": [
    {
     "name": "stdout",
     "output_type": "stream",
     "text": [
      "Distance between the center of this ellipsoid to the projection of the center onto the surface of the other ellipsoid.\n"
     ]
    }
   ],
   "source": [
    "print(info.center_distance_to_surface_of.__doc__)"
   ]
  },
  {
   "cell_type": "code",
   "execution_count": null,
   "id": "b78ba785",
   "metadata": {},
   "outputs": [],
   "source": []
  }
 ],
 "metadata": {
  "kernelspec": {
   "display_name": "Python 3",
   "language": "python",
   "name": "python3"
  },
  "language_info": {
   "codemirror_mode": {
    "name": "ipython",
    "version": 3
   },
   "file_extension": ".py",
   "mimetype": "text/x-python",
   "name": "python",
   "nbconvert_exporter": "python",
   "pygments_lexer": "ipython3",
   "version": "3.6.8"
  }
 },
 "nbformat": 4,
 "nbformat_minor": 5
}
