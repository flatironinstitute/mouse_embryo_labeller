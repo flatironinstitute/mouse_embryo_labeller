{
 "cells": [
  {
   "cell_type": "code",
   "execution_count": null,
   "id": "91f05c7c",
   "metadata": {},
   "outputs": [],
   "source": [
    "from mouse_embryo_labeller import quad_animation"
   ]
  },
  {
   "cell_type": "code",
   "execution_count": null,
   "id": "2f0e5f0a",
   "metadata": {
    "scrolled": false
   },
   "outputs": [],
   "source": [
    "folder = \"../../tracked_example\"\n",
    "Q = quad_animation.QuadAnimation(folder)\n",
    "Q.display_widgets()"
   ]
  },
  {
   "cell_type": "code",
   "execution_count": null,
   "id": "7ff74726",
   "metadata": {},
   "outputs": [],
   "source": [
    "Q.load_all_images()"
   ]
  },
  {
   "cell_type": "code",
   "execution_count": null,
   "id": "b24e76b7",
   "metadata": {},
   "outputs": [],
   "source": [
    "Q.save_images_to_animation(\"tracked_uncompressed.gif\")"
   ]
  },
  {
   "cell_type": "code",
   "execution_count": null,
   "id": "978c818d",
   "metadata": {},
   "outputs": [],
   "source": [
    "import ipywidgets as widgets\n",
    "file = open(\"tracked_uncompressed.gif\", \"rb\")\n",
    "image = file.read()\n",
    "widgets.Image(\n",
    "    value=image,\n",
    "    format='gif',\n",
    "    width=1000,\n",
    "    height=1000,\n",
    ")"
   ]
  },
  {
   "cell_type": "code",
   "execution_count": null,
   "id": "fb7866e9",
   "metadata": {},
   "outputs": [],
   "source": []
  }
 ],
 "metadata": {
  "kernelspec": {
   "display_name": "Python 3",
   "language": "python",
   "name": "python3"
  },
  "language_info": {
   "codemirror_mode": {
    "name": "ipython",
    "version": 3
   },
   "file_extension": ".py",
   "mimetype": "text/x-python",
   "name": "python",
   "nbconvert_exporter": "python",
   "pygments_lexer": "ipython3",
   "version": "3.6.8"
  }
 },
 "nbformat": 4,
 "nbformat_minor": 5
}
