{
 "cells": [
  {
   "cell_type": "code",
   "execution_count": 1,
   "metadata": {},
   "outputs": [
    {
     "data": {
      "text/plain": [
       "'../../example_data/'"
      ]
     },
     "execution_count": 1,
     "metadata": {},
     "output_type": "execute_result"
    }
   ],
   "source": [
    "from mouse_embryo_labeller import tools\n",
    "folder = \"../\" + tools.EXAMPLE_FOLDER\n",
    "folder"
   ]
  },
  {
   "cell_type": "code",
   "execution_count": 21,
   "metadata": {},
   "outputs": [
    {
     "name": "stdout",
     "output_type": "stream",
     "text": [
      "total 64184\r\n",
      "-rw-r--r--  1 awatters  1035      544 Apr  8 14:08 nuclei.json\r\n",
      "-rw-r--r--  1 awatters  1035      126 Apr  8 14:22 ts0.json\r\n",
      "-rw-r--r--  1 awatters  1035  2001397 Apr  8 09:18 ts0.npz\r\n",
      "-rw-r--r--  1 awatters  1035      126 Apr  8 14:08 ts1.json\r\n",
      "-rw-r--r--  1 awatters  1035  2002036 Apr  8 09:18 ts1.npz\r\n",
      "-rw-r--r--  1 awatters  1035      112 Apr  8 14:09 ts10.json\r\n",
      "-rw-r--r--  1 awatters  1035  1999910 Apr  8 09:18 ts10.npz\r\n",
      "-rw-r--r--  1 awatters  1035      126 Apr  8 14:08 ts2.json\r\n",
      "-rw-r--r--  1 awatters  1035  2001406 Apr  8 09:18 ts2.npz\r\n",
      "-rw-r--r--  1 awatters  1035      126 Apr  8 14:08 ts3.json\r\n",
      "-rw-r--r--  1 awatters  1035  1999145 Apr  8 09:18 ts3.npz\r\n",
      "-rw-r--r--  1 awatters  1035      111 Apr  8 14:09 ts4.json\r\n",
      "-rw-r--r--  1 awatters  1035  1993459 Apr  8 09:18 ts4.npz\r\n",
      "-rw-r--r--  1 awatters  1035      111 Apr  8 14:09 ts5.json\r\n",
      "-rw-r--r--  1 awatters  1035  1998461 Apr  8 09:18 ts5.npz\r\n",
      "-rw-r--r--  1 awatters  1035       96 Apr  8 14:39 ts6.json\r\n",
      "-rw-r--r--  1 awatters  1035  1998813 Apr  8 09:18 ts6.npz\r\n",
      "-rw-r--r--  1 awatters  1035      111 Apr  8 14:09 ts7.json\r\n",
      "-rw-r--r--  1 awatters  1035  1994928 Apr  8 09:18 ts7.npz\r\n",
      "-rw-r--r--  1 awatters  1035      111 Apr  8 14:09 ts8.json\r\n",
      "-rw-r--r--  1 awatters  1035  1997830 Apr  8 09:18 ts8.npz\r\n",
      "-rw-r--r--  1 awatters  1035      111 Apr  8 14:09 ts9.json\r\n",
      "-rw-r--r--  1 awatters  1035  1997480 Apr  8 09:18 ts9.npz\r\n",
      "-rw-r--r--  1 awatters  1035      918 Apr  8 09:18 ts_manifest.json\r\n"
     ]
    }
   ],
   "source": [
    "%ls -l ../../example_data"
   ]
  },
  {
   "cell_type": "code",
   "execution_count": 31,
   "metadata": {},
   "outputs": [
    {
     "name": "stdout",
     "output_type": "stream",
     "text": [
      "{\r\n",
      "  \"timestamp\": 7,\r\n",
      "  \"label_to_nucleus_id\": {\r\n",
      "    \"5\": \"n2\",\r\n",
      "    \"8\": \"z1\",\r\n",
      "    \"7\": \"mm\",\r\n",
      "    \"3\": \"h5\",\r\n",
      "    \"1\": \"dog\"\r\n",
      "  }\r\n",
      "}"
     ]
    }
   ],
   "source": [
    "%cat ../../example_data/ts7.json"
   ]
  },
  {
   "cell_type": "code",
   "execution_count": 22,
   "metadata": {},
   "outputs": [],
   "source": [
    "nc = tools.get_example_nucleus_collection(folder)"
   ]
  },
  {
   "cell_type": "code",
   "execution_count": 23,
   "metadata": {},
   "outputs": [],
   "source": [
    "tsc = tools.get_example_timestamp_collection(folder, nc)"
   ]
  },
  {
   "cell_type": "code",
   "execution_count": null,
   "metadata": {},
   "outputs": [],
   "source": []
  },
  {
   "cell_type": "code",
   "execution_count": 24,
   "metadata": {},
   "outputs": [],
   "source": [
    "from mouse_embryo_labeller import viz_controller"
   ]
  },
  {
   "cell_type": "code",
   "execution_count": 25,
   "metadata": {},
   "outputs": [],
   "source": [
    "v = viz_controller.VizController(folder, tsc, nc)"
   ]
  },
  {
   "cell_type": "code",
   "execution_count": 26,
   "metadata": {},
   "outputs": [
    {
     "data": {
      "text/plain": [
       "{1: <mouse_embryo_labeller.nucleus.Nucleus at 0x7fe670076588>,\n",
       " 4: <mouse_embryo_labeller.nucleus.Nucleus at 0x7fe670076ba8>,\n",
       " 9: <mouse_embryo_labeller.nucleus.Nucleus at 0x7fe670076c50>,\n",
       " 2: <mouse_embryo_labeller.nucleus.Nucleus at 0x7fe6700769e8>,\n",
       " 6: <mouse_embryo_labeller.nucleus.Nucleus at 0x7fe6700764e0>}"
      ]
     },
     "execution_count": 26,
     "metadata": {},
     "output_type": "execute_result"
    }
   ],
   "source": [
    "ts = v.timestamp()\n",
    "ts.label_to_nucleus"
   ]
  },
  {
   "cell_type": "code",
   "execution_count": 27,
   "metadata": {
    "scrolled": false
   },
   "outputs": [
    {
     "data": {
      "text/html": [
       "<style>.container { width:100% !important; }</style>"
      ],
      "text/plain": [
       "<IPython.core.display.HTML object>"
      ]
     },
     "metadata": {},
     "output_type": "display_data"
    },
    {
     "data": {
      "application/vnd.jupyter.widget-view+json": {
       "model_id": "ed9b9de4a59e4fe69d08dbd455e76d2f",
       "version_major": 2,
       "version_minor": 0
      },
      "text/plain": [
       "HBox(children=(VBox(children=(HBox(children=(HBox(children=(HTML(value='Nucleus Labeller Tool.'),), layout=Lay…"
      ]
     },
     "metadata": {},
     "output_type": "display_data"
    }
   ],
   "source": [
    "v.make_widget()"
   ]
  },
  {
   "cell_type": "code",
   "execution_count": 10,
   "metadata": {},
   "outputs": [],
   "source": [
    "#v.show_color_selector()"
   ]
  },
  {
   "cell_type": "code",
   "execution_count": 11,
   "metadata": {},
   "outputs": [],
   "source": [
    "v.selected_nucleus_id"
   ]
  },
  {
   "cell_type": "code",
   "execution_count": 12,
   "metadata": {},
   "outputs": [],
   "source": [
    "v.show_nucleus_selection()"
   ]
  },
  {
   "cell_type": "code",
   "execution_count": 13,
   "metadata": {},
   "outputs": [],
   "source": [
    "#v.assign_nucleus(4)"
   ]
  },
  {
   "cell_type": "code",
   "execution_count": 14,
   "metadata": {},
   "outputs": [
    {
     "data": {
      "text/plain": [
       "{'n2': <mouse_embryo_labeller.nucleus.Nucleus at 0x7fe6b05f6518>,\n",
       " 'z1': <mouse_embryo_labeller.nucleus.Nucleus at 0x7fe6b05f6550>,\n",
       " 'mm': <mouse_embryo_labeller.nucleus.Nucleus at 0x7fe6b05f6588>,\n",
       " 'xl': <mouse_embryo_labeller.nucleus.Nucleus at 0x7fe6b05f65c0>,\n",
       " 'h5': <mouse_embryo_labeller.nucleus.Nucleus at 0x7fe6b05f65f8>}"
      ]
     },
     "execution_count": 14,
     "metadata": {},
     "output_type": "execute_result"
    }
   ],
   "source": [
    "v.nucleus_collection.id_to_nucleus"
   ]
  },
  {
   "cell_type": "code",
   "execution_count": 15,
   "metadata": {},
   "outputs": [
    {
     "data": {
      "text/plain": [
       "[<mouse_embryo_labeller.nucleus.Nucleus at 0x7fe6b05f6518>,\n",
       " <mouse_embryo_labeller.nucleus.Nucleus at 0x7fe6b05f6550>,\n",
       " <mouse_embryo_labeller.nucleus.Nucleus at 0x7fe6b05f6588>,\n",
       " <mouse_embryo_labeller.nucleus.Nucleus at 0x7fe6b05f65c0>,\n",
       " <mouse_embryo_labeller.nucleus.Nucleus at 0x7fe6b05f65f8>]"
      ]
     },
     "execution_count": 15,
     "metadata": {},
     "output_type": "execute_result"
    }
   ],
   "source": [
    "v.nucleus_collection.nuclei"
   ]
  },
  {
   "cell_type": "code",
   "execution_count": 16,
   "metadata": {},
   "outputs": [],
   "source": [
    "ts = v.timestamp()"
   ]
  },
  {
   "cell_type": "code",
   "execution_count": 17,
   "metadata": {},
   "outputs": [],
   "source": [
    "#ts.raster_slice_with_boundary(0, colorize=True)"
   ]
  },
  {
   "cell_type": "code",
   "execution_count": 18,
   "metadata": {},
   "outputs": [],
   "source": [
    "#%debug"
   ]
  },
  {
   "cell_type": "code",
   "execution_count": null,
   "metadata": {},
   "outputs": [],
   "source": []
  }
 ],
 "metadata": {
  "kernelspec": {
   "display_name": "Python 3",
   "language": "python",
   "name": "python3"
  },
  "language_info": {
   "codemirror_mode": {
    "name": "ipython",
    "version": 3
   },
   "file_extension": ".py",
   "mimetype": "text/x-python",
   "name": "python",
   "nbconvert_exporter": "python",
   "pygments_lexer": "ipython3",
   "version": "3.6.8"
  }
 },
 "nbformat": 4,
 "nbformat_minor": 4
}
