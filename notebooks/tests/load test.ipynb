{
 "cells": [
  {
   "cell_type": "code",
   "execution_count": 1,
   "metadata": {},
   "outputs": [
    {
     "data": {
      "text/plain": [
       "'../../example_data/'"
      ]
     },
     "execution_count": 1,
     "metadata": {},
     "output_type": "execute_result"
    }
   ],
   "source": [
    "from mouse_embryo_labeller import tools\n",
    "folder = \"../\" + tools.EXAMPLE_FOLDER\n",
    "folder"
   ]
  },
  {
   "cell_type": "code",
   "execution_count": 2,
   "metadata": {},
   "outputs": [
    {
     "name": "stdout",
     "output_type": "stream",
     "text": [
      "total 87352\r\n",
      "-rw-r--r--  1 awatters  1035      440 Sep 28 12:07 mitotic.json\r\n",
      "-rw-r--r--  1 awatters  1035      218 Aug 25 10:42 nuclei.json\r\n",
      "-rw-r--r--  1 awatters  1035       66 Aug 25 10:42 ts0.json\r\n",
      "-rw-r--r--  1 awatters  1035  4060547 Aug 25 10:42 ts0.npz\r\n",
      "-rw-r--r--  1 awatters  1035       66 Aug 25 10:42 ts1.json\r\n",
      "-rw-r--r--  1 awatters  1035  4070369 Aug 25 10:42 ts1.npz\r\n",
      "-rw-r--r--  1 awatters  1035       83 Aug 25 10:42 ts10.json\r\n",
      "-rw-r--r--  1 awatters  1035  4061884 Aug 25 10:42 ts10.npz\r\n",
      "-rw-r--r--  1 awatters  1035       66 Aug 25 10:42 ts2.json\r\n",
      "-rw-r--r--  1 awatters  1035  4068182 Aug 25 10:42 ts2.npz\r\n",
      "-rw-r--r--  1 awatters  1035       66 Aug 25 10:42 ts3.json\r\n",
      "-rw-r--r--  1 awatters  1035  4059407 Aug 25 10:42 ts3.npz\r\n",
      "-rw-r--r--  1 awatters  1035       66 Aug 25 10:42 ts4.json\r\n",
      "-rw-r--r--  1 awatters  1035  4047797 Aug 25 10:42 ts4.npz\r\n",
      "-rw-r--r--  1 awatters  1035       82 Aug 25 10:42 ts5.json\r\n",
      "-rw-r--r--  1 awatters  1035  4056222 Aug 25 10:42 ts5.npz\r\n",
      "-rw-r--r--  1 awatters  1035       82 Aug 25 10:42 ts6.json\r\n",
      "-rw-r--r--  1 awatters  1035  4055958 Aug 25 10:42 ts6.npz\r\n",
      "-rw-r--r--  1 awatters  1035       82 Aug 25 10:42 ts7.json\r\n",
      "-rw-r--r--  1 awatters  1035  4047856 Aug 25 10:42 ts7.npz\r\n",
      "-rw-r--r--  1 awatters  1035       82 Aug 25 10:42 ts8.json\r\n",
      "-rw-r--r--  1 awatters  1035  4054354 Aug 25 10:42 ts8.npz\r\n",
      "-rw-r--r--  1 awatters  1035       82 Aug 25 10:42 ts9.json\r\n",
      "-rw-r--r--  1 awatters  1035  4056627 Aug 25 10:42 ts9.npz\r\n",
      "-rw-r--r--  1 awatters  1035      918 Aug 25 10:42 ts_manifest.json\r\n"
     ]
    }
   ],
   "source": [
    "%ls -l ../../example_data"
   ]
  },
  {
   "cell_type": "code",
   "execution_count": 3,
   "metadata": {},
   "outputs": [
    {
     "name": "stdout",
     "output_type": "stream",
     "text": [
      "{\r\n",
      "    \"tp0\": {\r\n",
      "        \"nuc7\": {\r\n",
      "            \"slice0\": \"0.99283825\",\r\n",
      "            \"slice2\": \"0.89283825\"\r\n",
      "        },\r\n",
      "        \"nuc1\": {\r\n",
      "            \"slice0\": \"0.99283825\",\r\n",
      "            \"slice2\": \"0.89283825\"\r\n",
      "        }\r\n",
      "    },\r\n",
      "    \"tp0\": {\r\n",
      "        \"nuc7\": {\r\n",
      "            \"slice0\": \"0.09283825\",\r\n",
      "            \"slice2\": \"0.49283825\"\r\n",
      "        },\r\n",
      "        \"nuc1\": {\r\n",
      "            \"slice0\": \"0.99283825\",\r\n",
      "            \"slice2\": \"0.89283825\"\r\n",
      "        }\r\n",
      "    }\r\n",
      "}"
     ]
    }
   ],
   "source": [
    "# Here is the example JSON file content for mitotic cell labelling:\n",
    "#. for tp0, nuc7 is below the threshold of 0.6\n",
    "%cat ../../example_data/mitotic.json"
   ]
  },
  {
   "cell_type": "code",
   "execution_count": 4,
   "metadata": {},
   "outputs": [],
   "source": [
    "nc = tools.get_example_nucleus_collection(folder)"
   ]
  },
  {
   "cell_type": "code",
   "execution_count": 5,
   "metadata": {},
   "outputs": [],
   "source": [
    "tsc = tools.get_example_timestamp_collection(folder, nc)"
   ]
  },
  {
   "cell_type": "code",
   "execution_count": 7,
   "metadata": {},
   "outputs": [
    {
     "name": "stdout",
     "output_type": "stream",
     "text": [
      "ts 0 mitotic labels [7, 1]\n",
      "ts 1 mitotic labels [1]\n",
      "Updated 2 timestamps.\n"
     ]
    }
   ],
   "source": [
    "tsc.load_mitosis_json(file_path=\"../../example_data/mitotic.json\", average_confidence=0.6)"
   ]
  },
  {
   "cell_type": "code",
   "execution_count": 8,
   "metadata": {},
   "outputs": [],
   "source": [
    "from mouse_embryo_labeller import viz_controller"
   ]
  },
  {
   "cell_type": "code",
   "execution_count": 9,
   "metadata": {},
   "outputs": [],
   "source": [
    "v = viz_controller.VizController(folder, tsc, nc)"
   ]
  },
  {
   "cell_type": "code",
   "execution_count": null,
   "metadata": {},
   "outputs": [],
   "source": []
  },
  {
   "cell_type": "code",
   "execution_count": 10,
   "metadata": {
    "scrolled": false
   },
   "outputs": [
    {
     "data": {
      "text/html": [
       "<style>.container { width:100% !important; }</style>"
      ],
      "text/plain": [
       "<IPython.core.display.HTML object>"
      ]
     },
     "metadata": {},
     "output_type": "display_data"
    },
    {
     "data": {
      "application/vnd.jupyter.widget-view+json": {
       "model_id": "6a4a8172f439492c84a304bf98006801",
       "version_major": 2,
       "version_minor": 0
      },
      "text/plain": [
       "HBox(children=(VBox(children=(HBox(children=(HBox(children=(HTML(value='Nucleus <br> Labeller <br> Tool.'),), …"
      ]
     },
     "metadata": {},
     "output_type": "display_data"
    }
   ],
   "source": [
    "v.make_widget()"
   ]
  },
  {
   "cell_type": "code",
   "execution_count": null,
   "metadata": {},
   "outputs": [],
   "source": []
  }
 ],
 "metadata": {
  "kernelspec": {
   "display_name": "Python 3",
   "language": "python",
   "name": "python3"
  },
  "language_info": {
   "codemirror_mode": {
    "name": "ipython",
    "version": 3
   },
   "file_extension": ".py",
   "mimetype": "text/x-python",
   "name": "python",
   "nbconvert_exporter": "python",
   "pygments_lexer": "ipython3",
   "version": "3.6.8"
  }
 },
 "nbformat": 4,
 "nbformat_minor": 4
}
