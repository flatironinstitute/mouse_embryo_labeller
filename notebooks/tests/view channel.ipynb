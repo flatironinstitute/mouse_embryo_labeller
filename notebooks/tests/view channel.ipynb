{
 "cells": [
  {
   "cell_type": "code",
   "execution_count": 1,
   "id": "4fef0201",
   "metadata": {},
   "outputs": [],
   "source": [
    "from mouse_embryo_labeller import tools"
   ]
  },
  {
   "cell_type": "code",
   "execution_count": 2,
   "id": "517a49dd",
   "metadata": {},
   "outputs": [],
   "source": [
    "folder = \"../channels_example\""
   ]
  },
  {
   "cell_type": "code",
   "execution_count": 3,
   "id": "55b11b89",
   "metadata": {},
   "outputs": [],
   "source": [
    "nc = tools.get_example_nucleus_collection(folder)"
   ]
  },
  {
   "cell_type": "code",
   "execution_count": 4,
   "id": "309ba8a2",
   "metadata": {},
   "outputs": [],
   "source": [
    "tsc = tools.get_example_timestamp_collection(folder, nc)"
   ]
  },
  {
   "cell_type": "code",
   "execution_count": 5,
   "id": "5c931217",
   "metadata": {},
   "outputs": [],
   "source": [
    "from mouse_embryo_labeller import viz_controller"
   ]
  },
  {
   "cell_type": "code",
   "execution_count": 6,
   "id": "8d704722",
   "metadata": {},
   "outputs": [],
   "source": [
    "v = viz_controller.VizController(folder, tsc, nc)"
   ]
  },
  {
   "cell_type": "code",
   "execution_count": 7,
   "id": "6c083b27",
   "metadata": {
    "scrolled": false
   },
   "outputs": [
    {
     "data": {
      "text/html": [
       "<style>.container { width:100% !important; }</style>"
      ],
      "text/plain": [
       "<IPython.core.display.HTML object>"
      ]
     },
     "metadata": {},
     "output_type": "display_data"
    },
    {
     "data": {
      "application/vnd.jupyter.widget-view+json": {
       "model_id": "bc398ac812f141e487aa76ab73453bc3",
       "version_major": 2,
       "version_minor": 0
      },
      "text/plain": [
       "HBox(children=(VBox(children=(HBox(children=(HBox(children=(HTML(value='Nucleus <br> Labeller <br> Tool.'),), …"
      ]
     },
     "metadata": {},
     "output_type": "display_data"
    }
   ],
   "source": [
    "v.make_widget(1000)"
   ]
  },
  {
   "cell_type": "code",
   "execution_count": null,
   "id": "c16d5fd1",
   "metadata": {},
   "outputs": [],
   "source": [
    "from jp_doodle.examine import examine"
   ]
  },
  {
   "cell_type": "code",
   "execution_count": null,
   "id": "063c9344",
   "metadata": {},
   "outputs": [],
   "source": [
    "examine(v)"
   ]
  },
  {
   "cell_type": "code",
   "execution_count": null,
   "id": "2a6dc771",
   "metadata": {
    "scrolled": true
   },
   "outputs": [],
   "source": [
    "v.raster_display.current_array.min(), v.raster_display.current_array.max(), v.raster_display.current_array.shape"
   ]
  },
  {
   "cell_type": "code",
   "execution_count": null,
   "id": "eb1b4bb2",
   "metadata": {},
   "outputs": [],
   "source": [
    "hex(-9223372036854775808)"
   ]
  },
  {
   "cell_type": "code",
   "execution_count": null,
   "id": "b156eb19",
   "metadata": {},
   "outputs": [],
   "source": [
    "!ls ../channels_example"
   ]
  },
  {
   "cell_type": "code",
   "execution_count": null,
   "id": "a2c044ce",
   "metadata": {},
   "outputs": [],
   "source": []
  }
 ],
 "metadata": {
  "kernelspec": {
   "display_name": "Python 3",
   "language": "python",
   "name": "python3"
  },
  "language_info": {
   "codemirror_mode": {
    "name": "ipython",
    "version": 3
   },
   "file_extension": ".py",
   "mimetype": "text/x-python",
   "name": "python",
   "nbconvert_exporter": "python",
   "pygments_lexer": "ipython3",
   "version": "3.6.8"
  }
 },
 "nbformat": 4,
 "nbformat_minor": 5
}
