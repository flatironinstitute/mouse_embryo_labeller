{
 "cells": [
  {
   "cell_type": "code",
   "execution_count": null,
   "id": "15b9b1b6",
   "metadata": {},
   "outputs": [],
   "source": [
    "from mouse_embryo_labeller import tools"
   ]
  },
  {
   "cell_type": "code",
   "execution_count": null,
   "id": "56ebe52b",
   "metadata": {},
   "outputs": [],
   "source": [
    "TRACKED_FOLDER = \"../../tracked_example\""
   ]
  },
  {
   "cell_type": "code",
   "execution_count": null,
   "id": "964ebdaa",
   "metadata": {},
   "outputs": [],
   "source": [
    "x = tools.read_track_table_to_tsnum2label2track()\n",
    "x"
   ]
  },
  {
   "cell_type": "code",
   "execution_count": null,
   "id": "9f542cd5",
   "metadata": {},
   "outputs": [],
   "source": [
    "helper = tools.FileSystemHelper(destination=TRACKED_FOLDER)"
   ]
  },
  {
   "cell_type": "code",
   "execution_count": null,
   "id": "7d093bde",
   "metadata": {},
   "outputs": [],
   "source": [
    "helper.load_existing_collections()"
   ]
  },
  {
   "cell_type": "code",
   "execution_count": null,
   "id": "228331fb",
   "metadata": {},
   "outputs": [],
   "source": [
    "helper.load_track_data(x)"
   ]
  },
  {
   "cell_type": "code",
   "execution_count": null,
   "id": "e0911033",
   "metadata": {},
   "outputs": [],
   "source": []
  }
 ],
 "metadata": {
  "kernelspec": {
   "display_name": "Python 3",
   "language": "python",
   "name": "python3"
  },
  "language_info": {
   "codemirror_mode": {
    "name": "ipython",
    "version": 3
   },
   "file_extension": ".py",
   "mimetype": "text/x-python",
   "name": "python",
   "nbconvert_exporter": "python",
   "pygments_lexer": "ipython3",
   "version": "3.6.8"
  }
 },
 "nbformat": 4,
 "nbformat_minor": 5
}
