{
 "cells": [
  {
   "cell_type": "markdown",
   "id": "9c854d86",
   "metadata": {},
   "source": [
    "# How to generate 3d labelled regions from a mask array\n",
    "\n",
    "First get a mask array.\n",
    "\n",
    "Below we get numeric data and generate a boolean mask using simple thresholding."
   ]
  },
  {
   "cell_type": "code",
   "execution_count": null,
   "id": "d5f9a281",
   "metadata": {},
   "outputs": [],
   "source": [
    "%ls ../../misc_data/"
   ]
  },
  {
   "cell_type": "code",
   "execution_count": null,
   "id": "6dcb59a5",
   "metadata": {},
   "outputs": [],
   "source": [
    "filename = \"../../misc_data/membrane_signal_tp_00045.tif\""
   ]
  },
  {
   "cell_type": "code",
   "execution_count": null,
   "id": "042d2608",
   "metadata": {},
   "outputs": [],
   "source": [
    "from mouse_embryo_labeller import tools\n",
    "import numpy as np\n",
    "from scipy.ndimage import gaussian_filter"
   ]
  },
  {
   "cell_type": "code",
   "execution_count": null,
   "id": "e24deca4",
   "metadata": {},
   "outputs": [],
   "source": [
    "# Read in the TIFF as a 3d array\n",
    "A = tools.load_tiff_array(filename)\n",
    "\n",
    "# Examine the images\n",
    "from jp_doodle.array_image import show_arrays\n",
    "show_arrays(A, width=1000, height=1000)"
   ]
  },
  {
   "cell_type": "code",
   "execution_count": null,
   "id": "d445712e",
   "metadata": {},
   "outputs": [],
   "source": [
    "# Slice out the volume of interest\n",
    "A2 = A[0:98, 253:733, 217:690]\n",
    "\n",
    "# Smooth the image to remove noise artifacts\n",
    "G = gaussian_filter(A2, [1, 4, 4])\n",
    "\n",
    "# Subsample to reduce computational complexity.\n",
    "G2 = G[::2,::2,::2]\n",
    "\n",
    "show_arrays(G2, width=1000, height=1000)"
   ]
  },
  {
   "cell_type": "code",
   "execution_count": null,
   "id": "63b0afc5",
   "metadata": {},
   "outputs": [],
   "source": [
    "# Create a binary mask using a threshold\n",
    "Mask = (G2 > 25).astype(np.int)\n",
    "\n",
    "show_arrays(Mask, width=1000, height=1000)"
   ]
  },
  {
   "cell_type": "code",
   "execution_count": null,
   "id": "2505854e",
   "metadata": {},
   "outputs": [],
   "source": [
    "# Flood the separated regions of the mask.\n",
    "# This operation takes a little while.\n",
    "# Verbose=True prints intermediate state feedback during processing.\n",
    "from mouse_embryo_labeller.flood import Flood3DMask\n",
    "F = Flood3DMask(Mask, verbose=True)"
   ]
  },
  {
   "cell_type": "code",
   "execution_count": null,
   "id": "2afd08d1",
   "metadata": {},
   "outputs": [],
   "source": [
    "# View 2D slices through the labelled regions\n",
    "show_arrays(F.marked_array, width=1000, height=1000)"
   ]
  },
  {
   "cell_type": "code",
   "execution_count": null,
   "id": "4811ba29",
   "metadata": {},
   "outputs": [],
   "source": [
    "# View colorized 3D presentation of labelled regions.\n",
    "F.init_volume(\n",
    "    camera_distance_multiple=1.7,\n",
    ")\n"
   ]
  },
  {
   "cell_type": "code",
   "execution_count": null,
   "id": "41e64e8a",
   "metadata": {},
   "outputs": [],
   "source": []
  }
 ],
 "metadata": {
  "kernelspec": {
   "display_name": "Python 3",
   "language": "python",
   "name": "python3"
  },
  "language_info": {
   "codemirror_mode": {
    "name": "ipython",
    "version": 3
   },
   "file_extension": ".py",
   "mimetype": "text/x-python",
   "name": "python",
   "nbconvert_exporter": "python",
   "pygments_lexer": "ipython3",
   "version": "3.6.8"
  }
 },
 "nbformat": 4,
 "nbformat_minor": 5
}
