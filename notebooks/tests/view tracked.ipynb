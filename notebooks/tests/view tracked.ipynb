{
 "cells": [
  {
   "cell_type": "code",
   "execution_count": null,
   "id": "4fef0201",
   "metadata": {},
   "outputs": [],
   "source": [
    "from mouse_embryo_labeller import tools"
   ]
  },
  {
   "cell_type": "code",
   "execution_count": null,
   "id": "517a49dd",
   "metadata": {},
   "outputs": [],
   "source": [
    "folder = \"../../tracked_example\""
   ]
  },
  {
   "cell_type": "code",
   "execution_count": null,
   "id": "55b11b89",
   "metadata": {},
   "outputs": [],
   "source": [
    "nc = tools.get_example_nucleus_collection(folder)"
   ]
  },
  {
   "cell_type": "code",
   "execution_count": null,
   "id": "309ba8a2",
   "metadata": {},
   "outputs": [],
   "source": [
    "tsc = tools.get_example_timestamp_collection(folder, nc)"
   ]
  },
  {
   "cell_type": "code",
   "execution_count": null,
   "id": "5c931217",
   "metadata": {},
   "outputs": [],
   "source": [
    "from mouse_embryo_labeller import viz_controller"
   ]
  },
  {
   "cell_type": "code",
   "execution_count": null,
   "id": "8d704722",
   "metadata": {},
   "outputs": [],
   "source": [
    "v = viz_controller.VizController(folder, tsc, nc)"
   ]
  },
  {
   "cell_type": "code",
   "execution_count": null,
   "id": "6c083b27",
   "metadata": {},
   "outputs": [],
   "source": [
    "v.make_widget()"
   ]
  },
  {
   "cell_type": "code",
   "execution_count": null,
   "id": "c16d5fd1",
   "metadata": {},
   "outputs": [],
   "source": []
  }
 ],
 "metadata": {
  "kernelspec": {
   "display_name": "Python 3",
   "language": "python",
   "name": "python3"
  },
  "language_info": {
   "codemirror_mode": {
    "name": "ipython",
    "version": 3
   },
   "file_extension": ".py",
   "mimetype": "text/x-python",
   "name": "python",
   "nbconvert_exporter": "python",
   "pygments_lexer": "ipython3",
   "version": "3.6.8"
  }
 },
 "nbformat": 4,
 "nbformat_minor": 5
}
